{
 "cells": [
  {
   "cell_type": "code",
   "execution_count": 1,
   "id": "ac8095fb",
   "metadata": {
    "_cell_guid": "b1076dfc-b9ad-4769-8c92-a6c4dae69d19",
    "_uuid": "8f2839f25d086af736a60e9eeb907d3b93b6e0e5",
    "execution": {
     "iopub.execute_input": "2025-04-17T21:29:20.859305Z",
     "iopub.status.busy": "2025-04-17T21:29:20.859099Z",
     "iopub.status.idle": "2025-04-17T21:29:45.287760Z",
     "shell.execute_reply": "2025-04-17T21:29:45.286764Z"
    },
    "papermill": {
     "duration": 24.435249,
     "end_time": "2025-04-17T21:29:45.289009",
     "exception": false,
     "start_time": "2025-04-17T21:29:20.853760",
     "status": "completed"
    },
    "tags": []
   },
   "outputs": [
    {
     "name": "stderr",
     "output_type": "stream",
     "text": [
      "2025-04-17 21:29:29.070697: E external/local_xla/xla/stream_executor/cuda/cuda_fft.cc:477] Unable to register cuFFT factory: Attempting to register factory for plugin cuFFT when one has already been registered\n",
      "WARNING: All log messages before absl::InitializeLog() is called are written to STDERR\n",
      "E0000 00:00:1744925369.534211      19 cuda_dnn.cc:8310] Unable to register cuDNN factory: Attempting to register factory for plugin cuDNN when one has already been registered\n",
      "E0000 00:00:1744925369.671111      19 cuda_blas.cc:1418] Unable to register cuBLAS factory: Attempting to register factory for plugin cuBLAS when one has already been registered\n"
     ]
    },
    {
     "name": "stdout",
     "output_type": "stream",
     "text": [
      "/kaggle/input/customer-behavior-dataset/Customer_Behavior_Data.csv\n",
      "/kaggle/input/ps-dataset/order_data_last_six_month.xlsx - Worksheet.csv\n",
      "/kaggle/input/ps-dataset/associated_order_item_data_last_six_month.xlsx - Worksheet.csv\n"
     ]
    }
   ],
   "source": [
    "# This Python 3 environment comes with many helpful analytics libraries installed\n",
    "# It is defined by the kaggle/python Docker image: https://github.com/kaggle/docker-python\n",
    "# For example, here's several helpful packages to load\n",
    "import numpy as np # linear algebra\n",
    "import pandas as pd # data processing, CSV file I/O (e.g. pd.read_csv)\n",
    "from sklearn.preprocessing import OneHotEncoder\n",
    "from sklearn.metrics import accuracy_score,recall_score,f1_score,precision_score\n",
    "from tensorflow.keras.models import clone_model\n",
    "from tqdm import tqdm\n",
    "import matplotlib.pyplot as plt\n",
    "# Input data files are available in the read-only \"../input/\" directory\n",
    "# For example, running this (by clicking run or pressing Shift+Enter) will list all files under the input directory\n",
    "from sklearn.model_selection import train_test_split\n",
    "import os\n",
    "for dirname, _, filenames in os.walk('/kaggle/input'):\n",
    "    for filename in filenames:\n",
    "        print(os.path.join(dirname, filename))\n",
    "from tensorflow.keras.models import Sequential\n",
    "from tensorflow.keras.layers import LSTM, Dense, Dropout\n",
    "from tensorflow.keras.callbacks import EarlyStopping, ModelCheckpoint\n",
    "# You can write up to 20GB to the current directory (/kaggle/working/) that gets preserved as output when you create a version using \"Save & Run All\" \n",
    "# You can also write temporary files to /kaggle/temp/, but they won't be saved outside of the current session"
   ]
  },
  {
   "cell_type": "code",
   "execution_count": 2,
   "id": "b7e998cb",
   "metadata": {
    "execution": {
     "iopub.execute_input": "2025-04-17T21:29:45.298639Z",
     "iopub.status.busy": "2025-04-17T21:29:45.298142Z",
     "iopub.status.idle": "2025-04-17T21:29:45.302501Z",
     "shell.execute_reply": "2025-04-17T21:29:45.301780Z"
    },
    "papermill": {
     "duration": 0.010156,
     "end_time": "2025-04-17T21:29:45.303665",
     "exception": false,
     "start_time": "2025-04-17T21:29:45.293509",
     "status": "completed"
    },
    "tags": []
   },
   "outputs": [
    {
     "name": "stdout",
     "output_type": "stream",
     "text": [
      "TensorFlow version: 2.18.0\n",
      "Keras version: 3.5.0\n"
     ]
    }
   ],
   "source": [
    "import tensorflow as tf\n",
    "import keras\n",
    "\n",
    "print(\"TensorFlow version:\", tf.__version__)\n",
    "print(\"Keras version:\", keras.__version__)\n"
   ]
  },
  {
   "cell_type": "code",
   "execution_count": 3,
   "id": "261f411e",
   "metadata": {
    "execution": {
     "iopub.execute_input": "2025-04-17T21:29:45.312425Z",
     "iopub.status.busy": "2025-04-17T21:29:45.311964Z",
     "iopub.status.idle": "2025-04-17T21:29:45.316977Z",
     "shell.execute_reply": "2025-04-17T21:29:45.316296Z"
    },
    "papermill": {
     "duration": 0.010428,
     "end_time": "2025-04-17T21:29:45.317979",
     "exception": false,
     "start_time": "2025-04-17T21:29:45.307551",
     "status": "completed"
    },
    "tags": []
   },
   "outputs": [],
   "source": [
    "def piechart(series):\n",
    "    \"\"\"\n",
    "    Automatically plots a pie chart from a Pandas Series.\n",
    "    - Uses the series name as the chart title.\n",
    "    - Displays value counts as percentages.\n",
    "    \"\"\"\n",
    "    if not isinstance(series, pd.Series):\n",
    "        raise TypeError(\"Input must be a pandas Series\")\n",
    "\n",
    "    counts = series.value_counts(dropna=False)\n",
    "    labels = counts.index.astype(str)\n",
    "    \n",
    "    # Auto-title using series name or fallback\n",
    "    title = series.name if series.name else \"Pie Chart\"\n",
    "\n",
    "    # Plot\n",
    "    plt.figure(figsize=(6, 6))\n",
    "    plt.pie(counts, labels=labels, autopct='%1.1f%%', startangle=90, counterclock=False)\n",
    "    plt.title(title)\n",
    "    plt.axis('equal')  # Equal aspect ratio ensures the pie is circular\n",
    "    plt.show()"
   ]
  },
  {
   "cell_type": "code",
   "execution_count": 4,
   "id": "aa5b0d07",
   "metadata": {
    "execution": {
     "iopub.execute_input": "2025-04-17T21:29:45.326423Z",
     "iopub.status.busy": "2025-04-17T21:29:45.326153Z",
     "iopub.status.idle": "2025-04-17T21:29:45.363062Z",
     "shell.execute_reply": "2025-04-17T21:29:45.362334Z"
    },
    "papermill": {
     "duration": 0.043293,
     "end_time": "2025-04-17T21:29:45.364902",
     "exception": false,
     "start_time": "2025-04-17T21:29:45.321609",
     "status": "completed"
    },
    "tags": []
   },
   "outputs": [],
   "source": [
    "beh_data=pd.read_csv(\"/kaggle/input/customer-behavior-dataset/Customer_Behavior_Data.csv\")"
   ]
  },
  {
   "cell_type": "code",
   "execution_count": 5,
   "id": "908d06ea",
   "metadata": {
    "execution": {
     "iopub.execute_input": "2025-04-17T21:29:45.375193Z",
     "iopub.status.busy": "2025-04-17T21:29:45.374657Z",
     "iopub.status.idle": "2025-04-17T21:29:45.395048Z",
     "shell.execute_reply": "2025-04-17T21:29:45.394207Z"
    },
    "papermill": {
     "duration": 0.026712,
     "end_time": "2025-04-17T21:29:45.396479",
     "exception": false,
     "start_time": "2025-04-17T21:29:45.369767",
     "status": "completed"
    },
    "tags": []
   },
   "outputs": [],
   "source": [
    "zero_people=beh_data[beh_data['Total Orders']<=4]['customer_id']"
   ]
  },
  {
   "cell_type": "code",
   "execution_count": 6,
   "id": "7c74c5b8",
   "metadata": {
    "execution": {
     "iopub.execute_input": "2025-04-17T21:29:45.405016Z",
     "iopub.status.busy": "2025-04-17T21:29:45.404808Z",
     "iopub.status.idle": "2025-04-17T21:29:45.411474Z",
     "shell.execute_reply": "2025-04-17T21:29:45.410884Z"
    },
    "papermill": {
     "duration": 0.011925,
     "end_time": "2025-04-17T21:29:45.412503",
     "exception": false,
     "start_time": "2025-04-17T21:29:45.400578",
     "status": "completed"
    },
    "tags": []
   },
   "outputs": [],
   "source": [
    "cluster_1_people=beh_data[((beh_data['Total Orders']<=25) & (beh_data['Total Orders']>4) & (beh_data['Average Order Gap Days']>=14))]['customer_id']"
   ]
  },
  {
   "cell_type": "code",
   "execution_count": 7,
   "id": "e05e490c",
   "metadata": {
    "execution": {
     "iopub.execute_input": "2025-04-17T21:29:45.420571Z",
     "iopub.status.busy": "2025-04-17T21:29:45.420375Z",
     "iopub.status.idle": "2025-04-17T21:29:45.430968Z",
     "shell.execute_reply": "2025-04-17T21:29:45.430185Z"
    },
    "papermill": {
     "duration": 0.015647,
     "end_time": "2025-04-17T21:29:45.432038",
     "exception": false,
     "start_time": "2025-04-17T21:29:45.416391",
     "status": "completed"
    },
    "tags": []
   },
   "outputs": [],
   "source": [
    "cluster_2_people = beh_data['customer_id'][~beh_data['customer_id'].isin(cluster_1_people) & ~beh_data['customer_id'].isin(zero_people)]"
   ]
  },
  {
   "cell_type": "code",
   "execution_count": 8,
   "id": "c0abf3cd",
   "metadata": {
    "execution": {
     "iopub.execute_input": "2025-04-17T21:29:45.440147Z",
     "iopub.status.busy": "2025-04-17T21:29:45.439943Z",
     "iopub.status.idle": "2025-04-17T21:29:45.736040Z",
     "shell.execute_reply": "2025-04-17T21:29:45.735033Z"
    },
    "papermill": {
     "duration": 0.301814,
     "end_time": "2025-04-17T21:29:45.737754",
     "exception": false,
     "start_time": "2025-04-17T21:29:45.435940",
     "status": "completed"
    },
    "tags": []
   },
   "outputs": [],
   "source": [
    "dataset=pd.read_csv(\"/kaggle/input/ps-dataset/order_data_last_six_month.xlsx - Worksheet.csv\")"
   ]
  },
  {
   "cell_type": "code",
   "execution_count": 9,
   "id": "64787ea7",
   "metadata": {
    "execution": {
     "iopub.execute_input": "2025-04-17T21:29:45.749113Z",
     "iopub.status.busy": "2025-04-17T21:29:45.748440Z",
     "iopub.status.idle": "2025-04-17T21:29:45.758899Z",
     "shell.execute_reply": "2025-04-17T21:29:45.758133Z"
    },
    "papermill": {
     "duration": 0.017225,
     "end_time": "2025-04-17T21:29:45.759985",
     "exception": false,
     "start_time": "2025-04-17T21:29:45.742760",
     "status": "completed"
    },
    "tags": []
   },
   "outputs": [],
   "source": [
    "train_data=dataset[dataset['customer_id'].isin(cluster_2_people)]"
   ]
  },
  {
   "cell_type": "code",
   "execution_count": 10,
   "id": "11f1dfcf",
   "metadata": {
    "execution": {
     "iopub.execute_input": "2025-04-17T21:29:45.768316Z",
     "iopub.status.busy": "2025-04-17T21:29:45.768062Z",
     "iopub.status.idle": "2025-04-17T21:29:45.791601Z",
     "shell.execute_reply": "2025-04-17T21:29:45.790835Z"
    },
    "papermill": {
     "duration": 0.029048,
     "end_time": "2025-04-17T21:29:45.792728",
     "exception": false,
     "start_time": "2025-04-17T21:29:45.763680",
     "status": "completed"
    },
    "tags": []
   },
   "outputs": [
    {
     "data": {
      "text/html": [
       "<div>\n",
       "<style scoped>\n",
       "    .dataframe tbody tr th:only-of-type {\n",
       "        vertical-align: middle;\n",
       "    }\n",
       "\n",
       "    .dataframe tbody tr th {\n",
       "        vertical-align: top;\n",
       "    }\n",
       "\n",
       "    .dataframe thead th {\n",
       "        text-align: right;\n",
       "    }\n",
       "</style>\n",
       "<table border=\"1\" class=\"dataframe\">\n",
       "  <thead>\n",
       "    <tr style=\"text-align: right;\">\n",
       "      <th></th>\n",
       "      <th>order_date</th>\n",
       "      <th>order_id</th>\n",
       "      <th>order_number</th>\n",
       "      <th>customer_id</th>\n",
       "      <th>customer_name</th>\n",
       "      <th>poc_name</th>\n",
       "      <th>poc_id</th>\n",
       "      <th>amount</th>\n",
       "      <th>discount</th>\n",
       "      <th>net_order_amount</th>\n",
       "      <th>profit</th>\n",
       "      <th>order_status</th>\n",
       "      <th>warehouse_name</th>\n",
       "      <th>warehouse_id</th>\n",
       "    </tr>\n",
       "  </thead>\n",
       "  <tbody>\n",
       "    <tr>\n",
       "      <th>0</th>\n",
       "      <td>03/04/2025</td>\n",
       "      <td>136349</td>\n",
       "      <td>SO/25-26/000818</td>\n",
       "      <td>5235</td>\n",
       "      <td>Anshu General Store Sector 34</td>\n",
       "      <td>Vikas Gupta</td>\n",
       "      <td>6</td>\n",
       "      <td>19125.00</td>\n",
       "      <td>1650.00</td>\n",
       "      <td>17475.0</td>\n",
       "      <td>0.0</td>\n",
       "      <td>CLOSED</td>\n",
       "      <td>Noida</td>\n",
       "      <td>3</td>\n",
       "    </tr>\n",
       "    <tr>\n",
       "      <th>1</th>\n",
       "      <td>30/01/2025</td>\n",
       "      <td>110393</td>\n",
       "      <td>SO/24-25/90881</td>\n",
       "      <td>7622</td>\n",
       "      <td>bhai di rasoi</td>\n",
       "      <td>Abhay Srimali</td>\n",
       "      <td>7814</td>\n",
       "      <td>9670.48</td>\n",
       "      <td>735.48</td>\n",
       "      <td>8935.0</td>\n",
       "      <td>-56.4</td>\n",
       "      <td>CLOSED</td>\n",
       "      <td>Greater NOIDA</td>\n",
       "      <td>6</td>\n",
       "    </tr>\n",
       "    <tr>\n",
       "      <th>3</th>\n",
       "      <td>26/12/2024</td>\n",
       "      <td>96182</td>\n",
       "      <td>SO/24-25/77411</td>\n",
       "      <td>2223</td>\n",
       "      <td>Bikaner Sweets ( Harola )</td>\n",
       "      <td>Swatantra</td>\n",
       "      <td>25</td>\n",
       "      <td>4520.00</td>\n",
       "      <td>420.00</td>\n",
       "      <td>4100.0</td>\n",
       "      <td>40.0</td>\n",
       "      <td>CLOSED</td>\n",
       "      <td>Noida</td>\n",
       "      <td>3</td>\n",
       "    </tr>\n",
       "    <tr>\n",
       "      <th>4</th>\n",
       "      <td>30/12/2024</td>\n",
       "      <td>97858</td>\n",
       "      <td>SO/24-25/78975</td>\n",
       "      <td>6903</td>\n",
       "      <td>Lucknow kirana store</td>\n",
       "      <td>Raj Kumar</td>\n",
       "      <td>7039</td>\n",
       "      <td>1700.00</td>\n",
       "      <td>0.00</td>\n",
       "      <td>1700.0</td>\n",
       "      <td>-88.0</td>\n",
       "      <td>CLOSED</td>\n",
       "      <td>Gomti Nagar</td>\n",
       "      <td>1</td>\n",
       "    </tr>\n",
       "    <tr>\n",
       "      <th>5</th>\n",
       "      <td>04/01/2025</td>\n",
       "      <td>99588</td>\n",
       "      <td>SO/24-25/80618</td>\n",
       "      <td>2296</td>\n",
       "      <td>Champaran Meat House</td>\n",
       "      <td>Ajay Singh</td>\n",
       "      <td>38</td>\n",
       "      <td>5074.00</td>\n",
       "      <td>214.00</td>\n",
       "      <td>4860.0</td>\n",
       "      <td>10.0</td>\n",
       "      <td>CLOSED</td>\n",
       "      <td>Telibagh</td>\n",
       "      <td>2</td>\n",
       "    </tr>\n",
       "  </tbody>\n",
       "</table>\n",
       "</div>"
      ],
      "text/plain": [
       "   order_date  order_id     order_number  customer_id  \\\n",
       "0  03/04/2025    136349  SO/25-26/000818         5235   \n",
       "1  30/01/2025    110393   SO/24-25/90881         7622   \n",
       "3  26/12/2024     96182   SO/24-25/77411         2223   \n",
       "4  30/12/2024     97858   SO/24-25/78975         6903   \n",
       "5  04/01/2025     99588   SO/24-25/80618         2296   \n",
       "\n",
       "                    customer_name       poc_name  poc_id    amount  discount  \\\n",
       "0  Anshu General Store Sector 34     Vikas Gupta       6  19125.00   1650.00   \n",
       "1                  bhai di rasoi   Abhay Srimali    7814   9670.48    735.48   \n",
       "3       Bikaner Sweets ( Harola )      Swatantra      25   4520.00    420.00   \n",
       "4            Lucknow kirana store      Raj Kumar    7039   1700.00      0.00   \n",
       "5            Champaran Meat House     Ajay Singh      38   5074.00    214.00   \n",
       "\n",
       "   net_order_amount  profit order_status warehouse_name  warehouse_id  \n",
       "0           17475.0     0.0       CLOSED          Noida             3  \n",
       "1            8935.0   -56.4       CLOSED  Greater NOIDA             6  \n",
       "3            4100.0    40.0       CLOSED          Noida             3  \n",
       "4            1700.0   -88.0       CLOSED    Gomti Nagar             1  \n",
       "5            4860.0    10.0       CLOSED       Telibagh             2  "
      ]
     },
     "execution_count": 10,
     "metadata": {},
     "output_type": "execute_result"
    }
   ],
   "source": [
    "train_data.head()"
   ]
  },
  {
   "cell_type": "code",
   "execution_count": 11,
   "id": "03d94331",
   "metadata": {
    "execution": {
     "iopub.execute_input": "2025-04-17T21:29:45.801120Z",
     "iopub.status.busy": "2025-04-17T21:29:45.800923Z",
     "iopub.status.idle": "2025-04-17T21:29:45.808617Z",
     "shell.execute_reply": "2025-04-17T21:29:45.807766Z"
    },
    "papermill": {
     "duration": 0.01306,
     "end_time": "2025-04-17T21:29:45.809743",
     "exception": false,
     "start_time": "2025-04-17T21:29:45.796683",
     "status": "completed"
    },
    "tags": []
   },
   "outputs": [
    {
     "name": "stderr",
     "output_type": "stream",
     "text": [
      "/tmp/ipykernel_19/404819675.py:1: SettingWithCopyWarning: \n",
      "A value is trying to be set on a copy of a slice from a DataFrame\n",
      "\n",
      "See the caveats in the documentation: https://pandas.pydata.org/pandas-docs/stable/user_guide/indexing.html#returning-a-view-versus-a-copy\n",
      "  train_data.drop(['order_number','customer_name','poc_name','poc_id','amount','profit','order_status','warehouse_id'],axis=1,inplace=True)\n"
     ]
    }
   ],
   "source": [
    "train_data.drop(['order_number','customer_name','poc_name','poc_id','amount','profit','order_status','warehouse_id'],axis=1,inplace=True)"
   ]
  },
  {
   "cell_type": "code",
   "execution_count": 12,
   "id": "5a938d1f",
   "metadata": {
    "execution": {
     "iopub.execute_input": "2025-04-17T21:29:45.818101Z",
     "iopub.status.busy": "2025-04-17T21:29:45.817927Z",
     "iopub.status.idle": "2025-04-17T21:29:45.911093Z",
     "shell.execute_reply": "2025-04-17T21:29:45.910298Z"
    },
    "papermill": {
     "duration": 0.099013,
     "end_time": "2025-04-17T21:29:45.912499",
     "exception": false,
     "start_time": "2025-04-17T21:29:45.813486",
     "status": "completed"
    },
    "tags": []
   },
   "outputs": [
    {
     "data": {
      "text/html": [
       "<div>\n",
       "<style scoped>\n",
       "    .dataframe tbody tr th:only-of-type {\n",
       "        vertical-align: middle;\n",
       "    }\n",
       "\n",
       "    .dataframe tbody tr th {\n",
       "        vertical-align: top;\n",
       "    }\n",
       "\n",
       "    .dataframe thead th {\n",
       "        text-align: right;\n",
       "    }\n",
       "</style>\n",
       "<table border=\"1\" class=\"dataframe\">\n",
       "  <thead>\n",
       "    <tr style=\"text-align: right;\">\n",
       "      <th></th>\n",
       "      <th>customer_id</th>\n",
       "      <th>order_date</th>\n",
       "      <th>daily_order_count</th>\n",
       "      <th>discount</th>\n",
       "      <th>net_order_amount</th>\n",
       "      <th>warehouse_name</th>\n",
       "    </tr>\n",
       "  </thead>\n",
       "  <tbody>\n",
       "    <tr>\n",
       "      <th>0</th>\n",
       "      <td>1</td>\n",
       "      <td>2024-10-01</td>\n",
       "      <td>1</td>\n",
       "      <td>0.00</td>\n",
       "      <td>4710.0</td>\n",
       "      <td>Telibagh</td>\n",
       "    </tr>\n",
       "    <tr>\n",
       "      <th>1</th>\n",
       "      <td>1</td>\n",
       "      <td>2024-10-06</td>\n",
       "      <td>1</td>\n",
       "      <td>120.00</td>\n",
       "      <td>2220.0</td>\n",
       "      <td>Telibagh</td>\n",
       "    </tr>\n",
       "    <tr>\n",
       "      <th>2</th>\n",
       "      <td>1</td>\n",
       "      <td>2024-10-07</td>\n",
       "      <td>1</td>\n",
       "      <td>150.00</td>\n",
       "      <td>12900.0</td>\n",
       "      <td>Telibagh</td>\n",
       "    </tr>\n",
       "    <tr>\n",
       "      <th>3</th>\n",
       "      <td>1</td>\n",
       "      <td>2024-10-09</td>\n",
       "      <td>1</td>\n",
       "      <td>200.00</td>\n",
       "      <td>3210.0</td>\n",
       "      <td>Telibagh</td>\n",
       "    </tr>\n",
       "    <tr>\n",
       "      <th>4</th>\n",
       "      <td>1</td>\n",
       "      <td>2024-10-10</td>\n",
       "      <td>1</td>\n",
       "      <td>273.76</td>\n",
       "      <td>5580.0</td>\n",
       "      <td>Telibagh</td>\n",
       "    </tr>\n",
       "    <tr>\n",
       "      <th>...</th>\n",
       "      <td>...</td>\n",
       "      <td>...</td>\n",
       "      <td>...</td>\n",
       "      <td>...</td>\n",
       "      <td>...</td>\n",
       "      <td>...</td>\n",
       "    </tr>\n",
       "    <tr>\n",
       "      <th>50025</th>\n",
       "      <td>9158</td>\n",
       "      <td>2025-04-03</td>\n",
       "      <td>1</td>\n",
       "      <td>540.00</td>\n",
       "      <td>6300.0</td>\n",
       "      <td>Greater NOIDA</td>\n",
       "    </tr>\n",
       "    <tr>\n",
       "      <th>50026</th>\n",
       "      <td>9158</td>\n",
       "      <td>2025-04-07</td>\n",
       "      <td>1</td>\n",
       "      <td>530.00</td>\n",
       "      <td>6450.0</td>\n",
       "      <td>Greater NOIDA</td>\n",
       "    </tr>\n",
       "    <tr>\n",
       "      <th>50027</th>\n",
       "      <td>9158</td>\n",
       "      <td>2025-04-08</td>\n",
       "      <td>1</td>\n",
       "      <td>481.00</td>\n",
       "      <td>5890.0</td>\n",
       "      <td>Greater NOIDA</td>\n",
       "    </tr>\n",
       "    <tr>\n",
       "      <th>50028</th>\n",
       "      <td>9158</td>\n",
       "      <td>2025-04-09</td>\n",
       "      <td>1</td>\n",
       "      <td>721.00</td>\n",
       "      <td>8650.0</td>\n",
       "      <td>Greater NOIDA</td>\n",
       "    </tr>\n",
       "    <tr>\n",
       "      <th>50029</th>\n",
       "      <td>9158</td>\n",
       "      <td>2025-04-10</td>\n",
       "      <td>1</td>\n",
       "      <td>710.00</td>\n",
       "      <td>8630.0</td>\n",
       "      <td>Greater NOIDA</td>\n",
       "    </tr>\n",
       "  </tbody>\n",
       "</table>\n",
       "<p>50030 rows × 6 columns</p>\n",
       "</div>"
      ],
      "text/plain": [
       "       customer_id order_date  daily_order_count  discount  net_order_amount  \\\n",
       "0                1 2024-10-01                  1      0.00            4710.0   \n",
       "1                1 2024-10-06                  1    120.00            2220.0   \n",
       "2                1 2024-10-07                  1    150.00           12900.0   \n",
       "3                1 2024-10-09                  1    200.00            3210.0   \n",
       "4                1 2024-10-10                  1    273.76            5580.0   \n",
       "...            ...        ...                ...       ...               ...   \n",
       "50025         9158 2025-04-03                  1    540.00            6300.0   \n",
       "50026         9158 2025-04-07                  1    530.00            6450.0   \n",
       "50027         9158 2025-04-08                  1    481.00            5890.0   \n",
       "50028         9158 2025-04-09                  1    721.00            8650.0   \n",
       "50029         9158 2025-04-10                  1    710.00            8630.0   \n",
       "\n",
       "      warehouse_name  \n",
       "0           Telibagh  \n",
       "1           Telibagh  \n",
       "2           Telibagh  \n",
       "3           Telibagh  \n",
       "4           Telibagh  \n",
       "...              ...  \n",
       "50025  Greater NOIDA  \n",
       "50026  Greater NOIDA  \n",
       "50027  Greater NOIDA  \n",
       "50028  Greater NOIDA  \n",
       "50029  Greater NOIDA  \n",
       "\n",
       "[50030 rows x 6 columns]"
      ]
     },
     "execution_count": 12,
     "metadata": {},
     "output_type": "execute_result"
    }
   ],
   "source": [
    "import pandas as pd\n",
    "\n",
    "# assume train_data is your original DataFrame\n",
    "df = train_data.copy()\n",
    "df['order_date'] = pd.to_datetime(df['order_date'], dayfirst=True)\n",
    "\n",
    "# group & aggregate:\n",
    "daily_df = df.groupby(['customer_id','order_date']).agg(\n",
    "    daily_order_count = ('order_id',       'count'),\n",
    "    discount          = ('discount',       'sum'),\n",
    "    net_order_amount  = ('net_order_amount','sum'),\n",
    "    warehouse_name    = ('warehouse_name', 'first')  # or use mode if you prefer\n",
    ").reset_index()\n",
    "\n",
    "# now daily_df has exactly one row per customer per date\n",
    "daily_df"
   ]
  },
  {
   "cell_type": "code",
   "execution_count": 13,
   "id": "2de6d92f",
   "metadata": {
    "execution": {
     "iopub.execute_input": "2025-04-17T21:29:45.922129Z",
     "iopub.status.busy": "2025-04-17T21:29:45.921892Z",
     "iopub.status.idle": "2025-04-17T21:29:45.938084Z",
     "shell.execute_reply": "2025-04-17T21:29:45.937534Z"
    },
    "papermill": {
     "duration": 0.022243,
     "end_time": "2025-04-17T21:29:45.939276",
     "exception": false,
     "start_time": "2025-04-17T21:29:45.917033",
     "status": "completed"
    },
    "tags": []
   },
   "outputs": [],
   "source": [
    "daily_df_dummy=pd.get_dummies(daily_df,columns=['warehouse_name'],dtype='int')"
   ]
  },
  {
   "cell_type": "code",
   "execution_count": 14,
   "id": "6a827a47",
   "metadata": {
    "execution": {
     "iopub.execute_input": "2025-04-17T21:29:45.949611Z",
     "iopub.status.busy": "2025-04-17T21:29:45.948974Z",
     "iopub.status.idle": "2025-04-17T21:29:45.952218Z",
     "shell.execute_reply": "2025-04-17T21:29:45.951675Z"
    },
    "papermill": {
     "duration": 0.009496,
     "end_time": "2025-04-17T21:29:45.953267",
     "exception": false,
     "start_time": "2025-04-17T21:29:45.943771",
     "status": "completed"
    },
    "tags": []
   },
   "outputs": [],
   "source": [
    "SEQ_LEN = 30\n",
    "PRED_HORIZON = 14"
   ]
  },
  {
   "cell_type": "code",
   "execution_count": 15,
   "id": "a94be62f",
   "metadata": {
    "execution": {
     "iopub.execute_input": "2025-04-17T21:29:45.974768Z",
     "iopub.status.busy": "2025-04-17T21:29:45.974498Z",
     "iopub.status.idle": "2025-04-17T21:29:50.990788Z",
     "shell.execute_reply": "2025-04-17T21:29:50.989879Z"
    },
    "papermill": {
     "duration": 5.024139,
     "end_time": "2025-04-17T21:29:50.992099",
     "exception": false,
     "start_time": "2025-04-17T21:29:45.967960",
     "status": "completed"
    },
    "tags": []
   },
   "outputs": [
    {
     "name": "stderr",
     "output_type": "stream",
     "text": [
      "100%|██████████| 1932/1932 [00:04<00:00, 439.36it/s]\n"
     ]
    },
    {
     "name": "stdout",
     "output_type": "stream",
     "text": [
      "X shape: (180411, 30, 16)\n",
      "y shape: (180411, 14)\n"
     ]
    }
   ],
   "source": [
    "df = daily_df_dummy.copy()\n",
    "df['order_date'] = pd.to_datetime(df['order_date'])\n",
    "\n",
    "# Add 'day_of_week' column\n",
    "df['day_of_week'] = df['order_date'].dt.dayofweek  # Monday=0, Sunday=6\n",
    "\n",
    "# One-hot encode 'day_of_week'\n",
    "df = pd.get_dummies(df, columns=['day_of_week'], prefix='dow',dtype='int')\n",
    "\n",
    "# Identify feature columns (exclude ID/date)\n",
    "feature_cols = [c for c in df.columns \n",
    "                if c not in ('customer_id', 'order_date')]\n",
    "\n",
    "# Containers for sequence data\n",
    "X, y = [], []\n",
    "\n",
    "for cust_id, group in tqdm(df.groupby('customer_id'), total=df['customer_id'].nunique()):\n",
    "    group = group.set_index('order_date').sort_index()\n",
    "    full_idx = pd.date_range(group.index.min(), group.index.max(), freq='D')\n",
    "    group = group.reindex(full_idx).fillna(0)\n",
    "    \n",
    "    # keep customer_id and date\n",
    "    group['customer_id'] = cust_id\n",
    "    group['date'] = group.index\n",
    "    \n",
    "    data = group[feature_cols].values\n",
    "    targets = (group['daily_order_count'] > 0).astype(int).values\n",
    "\n",
    "    n = len(group)\n",
    "    for start in range(n - SEQ_LEN - PRED_HORIZON + 1):\n",
    "        end = start + SEQ_LEN\n",
    "        fend = end + PRED_HORIZON\n",
    "        \n",
    "        X.append(data[start:end, :])     # shape: (30, num_features)\n",
    "        y.append(targets[end:fend])      # shape: (14,)\n",
    "\n",
    "X = np.stack(X)\n",
    "y = np.stack(y)\n",
    "\n",
    "print(\"X shape:\", X.shape)\n",
    "print(\"y shape:\", y.shape)"
   ]
  },
  {
   "cell_type": "code",
   "execution_count": 16,
   "id": "31aa8144",
   "metadata": {
    "execution": {
     "iopub.execute_input": "2025-04-17T21:29:51.005628Z",
     "iopub.status.busy": "2025-04-17T21:29:51.005393Z",
     "iopub.status.idle": "2025-04-17T21:29:51.009859Z",
     "shell.execute_reply": "2025-04-17T21:29:51.009315Z"
    },
    "papermill": {
     "duration": 0.012056,
     "end_time": "2025-04-17T21:29:51.010830",
     "exception": false,
     "start_time": "2025-04-17T21:29:50.998774",
     "status": "completed"
    },
    "tags": []
   },
   "outputs": [],
   "source": [
    "def binary_focal_loss(gamma=2.0, alpha=0.25):\n",
    "    def focal_loss(y_true, y_pred):\n",
    "        # Clip the predictions to prevent log(0) error\n",
    "        y_pred = tf.clip_by_value(y_pred, 1e-7, 1 - 1e-7)\n",
    "        \n",
    "        # Calculate cross-entropy\n",
    "        ce = tf.keras.backend.binary_crossentropy(y_true, y_pred)\n",
    "        \n",
    "        # Calculate p_t\n",
    "        p_t = y_true * y_pred + (1 - y_true) * (1 - y_pred)\n",
    "        \n",
    "        # Modulating factor\n",
    "        modulating_factor = tf.pow(1.0 - p_t, gamma)\n",
    "        \n",
    "        # Alpha factor\n",
    "        alpha_weight = y_true * alpha + (1 - y_true) * (1 - alpha)\n",
    "        \n",
    "        # Focal Loss\n",
    "        focal_loss = alpha_weight * modulating_factor * ce\n",
    "        return tf.reduce_mean(focal_loss)\n",
    "    \n",
    "    return focal_loss"
   ]
  },
  {
   "cell_type": "code",
   "execution_count": 17,
   "id": "4393c004",
   "metadata": {
    "execution": {
     "iopub.execute_input": "2025-04-17T21:29:51.023450Z",
     "iopub.status.busy": "2025-04-17T21:29:51.022965Z",
     "iopub.status.idle": "2025-04-17T21:29:51.375305Z",
     "shell.execute_reply": "2025-04-17T21:29:51.374640Z"
    },
    "papermill": {
     "duration": 0.359929,
     "end_time": "2025-04-17T21:29:51.376663",
     "exception": false,
     "start_time": "2025-04-17T21:29:51.016734",
     "status": "completed"
    },
    "tags": []
   },
   "outputs": [],
   "source": [
    "X_train,X_test,Y_train,Y_test=train_test_split(X,y,test_size=0.4,random_state=42)\n",
    "X_cv,X_test,Y_cv,Y_test=train_test_split(X_test,Y_test,test_size=0.5,random_state=42)"
   ]
  },
  {
   "cell_type": "code",
   "execution_count": 18,
   "id": "90f48815",
   "metadata": {
    "execution": {
     "iopub.execute_input": "2025-04-17T21:29:51.389536Z",
     "iopub.status.busy": "2025-04-17T21:29:51.389302Z",
     "iopub.status.idle": "2025-04-17T21:29:51.882295Z",
     "shell.execute_reply": "2025-04-17T21:29:51.881705Z"
    },
    "papermill": {
     "duration": 0.501006,
     "end_time": "2025-04-17T21:29:51.883795",
     "exception": false,
     "start_time": "2025-04-17T21:29:51.382789",
     "status": "completed"
    },
    "tags": []
   },
   "outputs": [],
   "source": [
    "from sklearn.utils.class_weight import compute_class_weight\n",
    "\n",
    "weights = compute_class_weight(class_weight='balanced',\n",
    "                                classes=[0,1],\n",
    "                                y=y.flatten())\n",
    "class_weight = {0: weights[0], 1: weights[1]}"
   ]
  },
  {
   "cell_type": "code",
   "execution_count": 19,
   "id": "2ff63d10",
   "metadata": {
    "execution": {
     "iopub.execute_input": "2025-04-17T21:29:51.897572Z",
     "iopub.status.busy": "2025-04-17T21:29:51.897303Z",
     "iopub.status.idle": "2025-04-17T21:29:51.904591Z",
     "shell.execute_reply": "2025-04-17T21:29:51.903886Z"
    },
    "papermill": {
     "duration": 0.015386,
     "end_time": "2025-04-17T21:29:51.905882",
     "exception": false,
     "start_time": "2025-04-17T21:29:51.890496",
     "status": "completed"
    },
    "tags": []
   },
   "outputs": [],
   "source": [
    "from tensorflow.keras.optimizers import Adam"
   ]
  },
  {
   "cell_type": "code",
   "execution_count": 20,
   "id": "faadceca",
   "metadata": {
    "execution": {
     "iopub.execute_input": "2025-04-17T21:29:51.918861Z",
     "iopub.status.busy": "2025-04-17T21:29:51.918421Z",
     "iopub.status.idle": "2025-04-17T21:29:56.436884Z",
     "shell.execute_reply": "2025-04-17T21:29:56.436162Z"
    },
    "papermill": {
     "duration": 4.52609,
     "end_time": "2025-04-17T21:29:56.438016",
     "exception": false,
     "start_time": "2025-04-17T21:29:51.911926",
     "status": "completed"
    },
    "tags": []
   },
   "outputs": [
    {
     "name": "stderr",
     "output_type": "stream",
     "text": [
      "I0000 00:00:1744925394.477227      19 gpu_device.cc:2022] Created device /job:localhost/replica:0/task:0/device:GPU:0 with 13942 MB memory:  -> device: 0, name: Tesla T4, pci bus id: 0000:00:04.0, compute capability: 7.5\n",
      "I0000 00:00:1744925394.477853      19 gpu_device.cc:2022] Created device /job:localhost/replica:0/task:0/device:GPU:1 with 13942 MB memory:  -> device: 1, name: Tesla T4, pci bus id: 0000:00:05.0, compute capability: 7.5\n",
      "/usr/local/lib/python3.11/dist-packages/keras/src/layers/rnn/rnn.py:204: UserWarning: Do not pass an `input_shape`/`input_dim` argument to a layer. When using Sequential models, prefer using an `Input(shape)` object as the first layer in the model instead.\n",
      "  super().__init__(**kwargs)\n"
     ]
    },
    {
     "data": {
      "text/html": [
       "<pre style=\"white-space:pre;overflow-x:auto;line-height:normal;font-family:Menlo,'DejaVu Sans Mono',consolas,'Courier New',monospace\"><span style=\"font-weight: bold\">Model: \"sequential\"</span>\n",
       "</pre>\n"
      ],
      "text/plain": [
       "\u001b[1mModel: \"sequential\"\u001b[0m\n"
      ]
     },
     "metadata": {},
     "output_type": "display_data"
    },
    {
     "data": {
      "text/html": [
       "<pre style=\"white-space:pre;overflow-x:auto;line-height:normal;font-family:Menlo,'DejaVu Sans Mono',consolas,'Courier New',monospace\">┏━━━━━━━━━━━━━━━━━━━━━━━━━━━━━━━━━━━━━━┳━━━━━━━━━━━━━━━━━━━━━━━━━━━━━┳━━━━━━━━━━━━━━━━━┓\n",
       "┃<span style=\"font-weight: bold\"> Layer (type)                         </span>┃<span style=\"font-weight: bold\"> Output Shape                </span>┃<span style=\"font-weight: bold\">         Param # </span>┃\n",
       "┡━━━━━━━━━━━━━━━━━━━━━━━━━━━━━━━━━━━━━━╇━━━━━━━━━━━━━━━━━━━━━━━━━━━━━╇━━━━━━━━━━━━━━━━━┩\n",
       "│ lstm (<span style=\"color: #0087ff; text-decoration-color: #0087ff\">LSTM</span>)                          │ (<span style=\"color: #00d7ff; text-decoration-color: #00d7ff\">None</span>, <span style=\"color: #00af00; text-decoration-color: #00af00\">30</span>, <span style=\"color: #00af00; text-decoration-color: #00af00\">128</span>)             │          <span style=\"color: #00af00; text-decoration-color: #00af00\">74,240</span> │\n",
       "├──────────────────────────────────────┼─────────────────────────────┼─────────────────┤\n",
       "│ dropout (<span style=\"color: #0087ff; text-decoration-color: #0087ff\">Dropout</span>)                    │ (<span style=\"color: #00d7ff; text-decoration-color: #00d7ff\">None</span>, <span style=\"color: #00af00; text-decoration-color: #00af00\">30</span>, <span style=\"color: #00af00; text-decoration-color: #00af00\">128</span>)             │               <span style=\"color: #00af00; text-decoration-color: #00af00\">0</span> │\n",
       "├──────────────────────────────────────┼─────────────────────────────┼─────────────────┤\n",
       "│ lstm_1 (<span style=\"color: #0087ff; text-decoration-color: #0087ff\">LSTM</span>)                        │ (<span style=\"color: #00d7ff; text-decoration-color: #00d7ff\">None</span>, <span style=\"color: #00af00; text-decoration-color: #00af00\">64</span>)                  │          <span style=\"color: #00af00; text-decoration-color: #00af00\">49,408</span> │\n",
       "├──────────────────────────────────────┼─────────────────────────────┼─────────────────┤\n",
       "│ dropout_1 (<span style=\"color: #0087ff; text-decoration-color: #0087ff\">Dropout</span>)                  │ (<span style=\"color: #00d7ff; text-decoration-color: #00d7ff\">None</span>, <span style=\"color: #00af00; text-decoration-color: #00af00\">64</span>)                  │               <span style=\"color: #00af00; text-decoration-color: #00af00\">0</span> │\n",
       "├──────────────────────────────────────┼─────────────────────────────┼─────────────────┤\n",
       "│ dense (<span style=\"color: #0087ff; text-decoration-color: #0087ff\">Dense</span>)                        │ (<span style=\"color: #00d7ff; text-decoration-color: #00d7ff\">None</span>, <span style=\"color: #00af00; text-decoration-color: #00af00\">32</span>)                  │           <span style=\"color: #00af00; text-decoration-color: #00af00\">2,080</span> │\n",
       "├──────────────────────────────────────┼─────────────────────────────┼─────────────────┤\n",
       "│ dropout_2 (<span style=\"color: #0087ff; text-decoration-color: #0087ff\">Dropout</span>)                  │ (<span style=\"color: #00d7ff; text-decoration-color: #00d7ff\">None</span>, <span style=\"color: #00af00; text-decoration-color: #00af00\">32</span>)                  │               <span style=\"color: #00af00; text-decoration-color: #00af00\">0</span> │\n",
       "├──────────────────────────────────────┼─────────────────────────────┼─────────────────┤\n",
       "│ dense_1 (<span style=\"color: #0087ff; text-decoration-color: #0087ff\">Dense</span>)                      │ (<span style=\"color: #00d7ff; text-decoration-color: #00d7ff\">None</span>, <span style=\"color: #00af00; text-decoration-color: #00af00\">14</span>)                  │             <span style=\"color: #00af00; text-decoration-color: #00af00\">462</span> │\n",
       "└──────────────────────────────────────┴─────────────────────────────┴─────────────────┘\n",
       "</pre>\n"
      ],
      "text/plain": [
       "┏━━━━━━━━━━━━━━━━━━━━━━━━━━━━━━━━━━━━━━┳━━━━━━━━━━━━━━━━━━━━━━━━━━━━━┳━━━━━━━━━━━━━━━━━┓\n",
       "┃\u001b[1m \u001b[0m\u001b[1mLayer (type)                        \u001b[0m\u001b[1m \u001b[0m┃\u001b[1m \u001b[0m\u001b[1mOutput Shape               \u001b[0m\u001b[1m \u001b[0m┃\u001b[1m \u001b[0m\u001b[1m        Param #\u001b[0m\u001b[1m \u001b[0m┃\n",
       "┡━━━━━━━━━━━━━━━━━━━━━━━━━━━━━━━━━━━━━━╇━━━━━━━━━━━━━━━━━━━━━━━━━━━━━╇━━━━━━━━━━━━━━━━━┩\n",
       "│ lstm (\u001b[38;5;33mLSTM\u001b[0m)                          │ (\u001b[38;5;45mNone\u001b[0m, \u001b[38;5;34m30\u001b[0m, \u001b[38;5;34m128\u001b[0m)             │          \u001b[38;5;34m74,240\u001b[0m │\n",
       "├──────────────────────────────────────┼─────────────────────────────┼─────────────────┤\n",
       "│ dropout (\u001b[38;5;33mDropout\u001b[0m)                    │ (\u001b[38;5;45mNone\u001b[0m, \u001b[38;5;34m30\u001b[0m, \u001b[38;5;34m128\u001b[0m)             │               \u001b[38;5;34m0\u001b[0m │\n",
       "├──────────────────────────────────────┼─────────────────────────────┼─────────────────┤\n",
       "│ lstm_1 (\u001b[38;5;33mLSTM\u001b[0m)                        │ (\u001b[38;5;45mNone\u001b[0m, \u001b[38;5;34m64\u001b[0m)                  │          \u001b[38;5;34m49,408\u001b[0m │\n",
       "├──────────────────────────────────────┼─────────────────────────────┼─────────────────┤\n",
       "│ dropout_1 (\u001b[38;5;33mDropout\u001b[0m)                  │ (\u001b[38;5;45mNone\u001b[0m, \u001b[38;5;34m64\u001b[0m)                  │               \u001b[38;5;34m0\u001b[0m │\n",
       "├──────────────────────────────────────┼─────────────────────────────┼─────────────────┤\n",
       "│ dense (\u001b[38;5;33mDense\u001b[0m)                        │ (\u001b[38;5;45mNone\u001b[0m, \u001b[38;5;34m32\u001b[0m)                  │           \u001b[38;5;34m2,080\u001b[0m │\n",
       "├──────────────────────────────────────┼─────────────────────────────┼─────────────────┤\n",
       "│ dropout_2 (\u001b[38;5;33mDropout\u001b[0m)                  │ (\u001b[38;5;45mNone\u001b[0m, \u001b[38;5;34m32\u001b[0m)                  │               \u001b[38;5;34m0\u001b[0m │\n",
       "├──────────────────────────────────────┼─────────────────────────────┼─────────────────┤\n",
       "│ dense_1 (\u001b[38;5;33mDense\u001b[0m)                      │ (\u001b[38;5;45mNone\u001b[0m, \u001b[38;5;34m14\u001b[0m)                  │             \u001b[38;5;34m462\u001b[0m │\n",
       "└──────────────────────────────────────┴─────────────────────────────┴─────────────────┘\n"
      ]
     },
     "metadata": {},
     "output_type": "display_data"
    },
    {
     "data": {
      "text/html": [
       "<pre style=\"white-space:pre;overflow-x:auto;line-height:normal;font-family:Menlo,'DejaVu Sans Mono',consolas,'Courier New',monospace\"><span style=\"font-weight: bold\"> Total params: </span><span style=\"color: #00af00; text-decoration-color: #00af00\">126,190</span> (492.93 KB)\n",
       "</pre>\n"
      ],
      "text/plain": [
       "\u001b[1m Total params: \u001b[0m\u001b[38;5;34m126,190\u001b[0m (492.93 KB)\n"
      ]
     },
     "metadata": {},
     "output_type": "display_data"
    },
    {
     "data": {
      "text/html": [
       "<pre style=\"white-space:pre;overflow-x:auto;line-height:normal;font-family:Menlo,'DejaVu Sans Mono',consolas,'Courier New',monospace\"><span style=\"font-weight: bold\"> Trainable params: </span><span style=\"color: #00af00; text-decoration-color: #00af00\">126,190</span> (492.93 KB)\n",
       "</pre>\n"
      ],
      "text/plain": [
       "\u001b[1m Trainable params: \u001b[0m\u001b[38;5;34m126,190\u001b[0m (492.93 KB)\n"
      ]
     },
     "metadata": {},
     "output_type": "display_data"
    },
    {
     "data": {
      "text/html": [
       "<pre style=\"white-space:pre;overflow-x:auto;line-height:normal;font-family:Menlo,'DejaVu Sans Mono',consolas,'Courier New',monospace\"><span style=\"font-weight: bold\"> Non-trainable params: </span><span style=\"color: #00af00; text-decoration-color: #00af00\">0</span> (0.00 B)\n",
       "</pre>\n"
      ],
      "text/plain": [
       "\u001b[1m Non-trainable params: \u001b[0m\u001b[38;5;34m0\u001b[0m (0.00 B)\n"
      ]
     },
     "metadata": {},
     "output_type": "display_data"
    }
   ],
   "source": [
    "from tensorflow.keras.models import Sequential\n",
    "from tensorflow.keras.layers import LSTM, Dense, Dropout\n",
    "\n",
    "# Assuming you have already defined:\n",
    "# SEQ_LEN = 30\n",
    "# PRED_HORIZON = 14\n",
    "# feature_cols = [...]  # list of your input column names\n",
    "\n",
    "NUM_FEATURES = len(feature_cols)\n",
    "\n",
    "model = Sequential([\n",
    "    # 1st LSTM layer, returns sequences so we can stack another LSTM\n",
    "    LSTM(128, input_shape=(SEQ_LEN, NUM_FEATURES), return_sequences=True),\n",
    "    Dropout(0.2),\n",
    "\n",
    "    # 2nd LSTM layer\n",
    "    LSTM(64, return_sequences=False),\n",
    "    Dropout(0.2),\n",
    "\n",
    "    # Dense “bottleneck” to learn combined features\n",
    "    Dense(32, activation='relu'),\n",
    "    Dropout(0.1),\n",
    "\n",
    "    # Final output: 14 sigmoid neurons, one per future day\n",
    "    Dense(PRED_HORIZON, activation='sigmoid')\n",
    "])\n",
    "\n",
    "model.compile(\n",
    "    optimizer=Adam(learning_rate=0.0001),\n",
    "    loss=binary_focal_loss(gamma=2.0, alpha=0.25),\n",
    "    metrics=['accuracy']\n",
    ")\n",
    "\n",
    "model.summary()"
   ]
  },
  {
   "cell_type": "code",
   "execution_count": 21,
   "id": "56f25d47",
   "metadata": {
    "execution": {
     "iopub.execute_input": "2025-04-17T21:29:56.453147Z",
     "iopub.status.busy": "2025-04-17T21:29:56.452699Z",
     "iopub.status.idle": "2025-04-17T21:29:56.456355Z",
     "shell.execute_reply": "2025-04-17T21:29:56.455612Z"
    },
    "papermill": {
     "duration": 0.012571,
     "end_time": "2025-04-17T21:29:56.457392",
     "exception": false,
     "start_time": "2025-04-17T21:29:56.444821",
     "status": "completed"
    },
    "tags": []
   },
   "outputs": [],
   "source": [
    "checkpoint = ModelCheckpoint(\n",
    "    filepath='best_model.weights.h5',      # Path to save the model weights\n",
    "    monitor='val_loss',                    # Metric to monitor\n",
    "    save_best_only=True,                   # Save only the best weights\n",
    "    save_weights_only=True,                # Save only weights (not full model)\n",
    "    mode='min',                            # 'min' for loss, 'max' for accuracy\n",
    "    verbose=1\n",
    ")"
   ]
  },
  {
   "cell_type": "code",
   "execution_count": 22,
   "id": "17e1b89a",
   "metadata": {
    "execution": {
     "iopub.execute_input": "2025-04-17T21:29:56.471027Z",
     "iopub.status.busy": "2025-04-17T21:29:56.470623Z",
     "iopub.status.idle": "2025-04-17T21:52:53.694001Z",
     "shell.execute_reply": "2025-04-17T21:52:53.693379Z"
    },
    "papermill": {
     "duration": 1377.231538,
     "end_time": "2025-04-17T21:52:53.695239",
     "exception": false,
     "start_time": "2025-04-17T21:29:56.463701",
     "status": "completed"
    },
    "tags": []
   },
   "outputs": [
    {
     "name": "stdout",
     "output_type": "stream",
     "text": [
      "Epoch 1/100\n"
     ]
    },
    {
     "name": "stderr",
     "output_type": "stream",
     "text": [
      "I0000 00:00:1744925401.455121      62 cuda_dnn.cc:529] Loaded cuDNN version 90300\n"
     ]
    },
    {
     "name": "stdout",
     "output_type": "stream",
     "text": [
      "\u001b[1m1688/1692\u001b[0m \u001b[32m━━━━━━━━━━━━━━━━━━━\u001b[0m\u001b[37m━\u001b[0m \u001b[1m0s\u001b[0m 7ms/step - accuracy: 0.1361 - loss: 0.0667\n",
      "Epoch 1: val_loss improved from inf to 0.04249, saving model to best_model.weights.h5\n",
      "\u001b[1m1692/1692\u001b[0m \u001b[32m━━━━━━━━━━━━━━━━━━━━\u001b[0m\u001b[37m\u001b[0m \u001b[1m21s\u001b[0m 9ms/step - accuracy: 0.1360 - loss: 0.0667 - val_accuracy: 0.2481 - val_loss: 0.0425\n",
      "Epoch 2/100\n",
      "\u001b[1m1687/1692\u001b[0m \u001b[32m━━━━━━━━━━━━━━━━━━━\u001b[0m\u001b[37m━\u001b[0m \u001b[1m0s\u001b[0m 7ms/step - accuracy: 0.0703 - loss: 0.0497\n",
      "Epoch 2: val_loss improved from 0.04249 to 0.04241, saving model to best_model.weights.h5\n",
      "\u001b[1m1692/1692\u001b[0m \u001b[32m━━━━━━━━━━━━━━━━━━━━\u001b[0m\u001b[37m\u001b[0m \u001b[1m14s\u001b[0m 8ms/step - accuracy: 0.0703 - loss: 0.0497 - val_accuracy: 0.1133 - val_loss: 0.0424\n",
      "Epoch 3/100\n",
      "\u001b[1m1688/1692\u001b[0m \u001b[32m━━━━━━━━━━━━━━━━━━━\u001b[0m\u001b[37m━\u001b[0m \u001b[1m0s\u001b[0m 7ms/step - accuracy: 0.0628 - loss: 0.0486\n",
      "Epoch 3: val_loss improved from 0.04241 to 0.04236, saving model to best_model.weights.h5\n",
      "\u001b[1m1692/1692\u001b[0m \u001b[32m━━━━━━━━━━━━━━━━━━━━\u001b[0m\u001b[37m\u001b[0m \u001b[1m13s\u001b[0m 8ms/step - accuracy: 0.0628 - loss: 0.0486 - val_accuracy: 0.0627 - val_loss: 0.0424\n",
      "Epoch 4/100\n",
      "\u001b[1m1688/1692\u001b[0m \u001b[32m━━━━━━━━━━━━━━━━━━━\u001b[0m\u001b[37m━\u001b[0m \u001b[1m0s\u001b[0m 7ms/step - accuracy: 0.0609 - loss: 0.0479\n",
      "Epoch 4: val_loss improved from 0.04236 to 0.04234, saving model to best_model.weights.h5\n",
      "\u001b[1m1692/1692\u001b[0m \u001b[32m━━━━━━━━━━━━━━━━━━━━\u001b[0m\u001b[37m\u001b[0m \u001b[1m13s\u001b[0m 8ms/step - accuracy: 0.0609 - loss: 0.0479 - val_accuracy: 0.0819 - val_loss: 0.0423\n",
      "Epoch 5/100\n",
      "\u001b[1m1689/1692\u001b[0m \u001b[32m━━━━━━━━━━━━━━━━━━━\u001b[0m\u001b[37m━\u001b[0m \u001b[1m0s\u001b[0m 7ms/step - accuracy: 0.0608 - loss: 0.0479\n",
      "Epoch 5: val_loss did not improve from 0.04234\n",
      "\u001b[1m1692/1692\u001b[0m \u001b[32m━━━━━━━━━━━━━━━━━━━━\u001b[0m\u001b[37m\u001b[0m \u001b[1m14s\u001b[0m 8ms/step - accuracy: 0.0608 - loss: 0.0479 - val_accuracy: 0.1436 - val_loss: 0.0423\n",
      "Epoch 6/100\n",
      "\u001b[1m1689/1692\u001b[0m \u001b[32m━━━━━━━━━━━━━━━━━━━\u001b[0m\u001b[37m━\u001b[0m \u001b[1m0s\u001b[0m 7ms/step - accuracy: 0.0662 - loss: 0.0479\n",
      "Epoch 6: val_loss improved from 0.04234 to 0.04234, saving model to best_model.weights.h5\n",
      "\u001b[1m1692/1692\u001b[0m \u001b[32m━━━━━━━━━━━━━━━━━━━━\u001b[0m\u001b[37m\u001b[0m \u001b[1m14s\u001b[0m 8ms/step - accuracy: 0.0661 - loss: 0.0479 - val_accuracy: 0.0535 - val_loss: 0.0423\n",
      "Epoch 7/100\n",
      "\u001b[1m1692/1692\u001b[0m \u001b[32m━━━━━━━━━━━━━━━━━━━━\u001b[0m\u001b[37m\u001b[0m \u001b[1m0s\u001b[0m 7ms/step - accuracy: 0.0606 - loss: 0.0480\n",
      "Epoch 7: val_loss improved from 0.04234 to 0.04232, saving model to best_model.weights.h5\n",
      "\u001b[1m1692/1692\u001b[0m \u001b[32m━━━━━━━━━━━━━━━━━━━━\u001b[0m\u001b[37m\u001b[0m \u001b[1m14s\u001b[0m 8ms/step - accuracy: 0.0606 - loss: 0.0480 - val_accuracy: 0.0431 - val_loss: 0.0423\n",
      "Epoch 8/100\n",
      "\u001b[1m1692/1692\u001b[0m \u001b[32m━━━━━━━━━━━━━━━━━━━━\u001b[0m\u001b[37m\u001b[0m \u001b[1m0s\u001b[0m 7ms/step - accuracy: 0.0587 - loss: 0.0475\n",
      "Epoch 8: val_loss improved from 0.04232 to 0.04232, saving model to best_model.weights.h5\n",
      "\u001b[1m1692/1692\u001b[0m \u001b[32m━━━━━━━━━━━━━━━━━━━━\u001b[0m\u001b[37m\u001b[0m \u001b[1m13s\u001b[0m 8ms/step - accuracy: 0.0587 - loss: 0.0475 - val_accuracy: 0.0392 - val_loss: 0.0423\n",
      "Epoch 9/100\n",
      "\u001b[1m1689/1692\u001b[0m \u001b[32m━━━━━━━━━━━━━━━━━━━\u001b[0m\u001b[37m━\u001b[0m \u001b[1m0s\u001b[0m 7ms/step - accuracy: 0.0639 - loss: 0.0475\n",
      "Epoch 9: val_loss improved from 0.04232 to 0.04231, saving model to best_model.weights.h5\n",
      "\u001b[1m1692/1692\u001b[0m \u001b[32m━━━━━━━━━━━━━━━━━━━━\u001b[0m\u001b[37m\u001b[0m \u001b[1m14s\u001b[0m 8ms/step - accuracy: 0.0639 - loss: 0.0475 - val_accuracy: 0.0538 - val_loss: 0.0423\n",
      "Epoch 10/100\n",
      "\u001b[1m1689/1692\u001b[0m \u001b[32m━━━━━━━━━━━━━━━━━━━\u001b[0m\u001b[37m━\u001b[0m \u001b[1m0s\u001b[0m 7ms/step - accuracy: 0.0695 - loss: 0.0476\n",
      "Epoch 10: val_loss improved from 0.04231 to 0.04229, saving model to best_model.weights.h5\n",
      "\u001b[1m1692/1692\u001b[0m \u001b[32m━━━━━━━━━━━━━━━━━━━━\u001b[0m\u001b[37m\u001b[0m \u001b[1m14s\u001b[0m 8ms/step - accuracy: 0.0694 - loss: 0.0476 - val_accuracy: 0.0407 - val_loss: 0.0423\n",
      "Epoch 11/100\n",
      "\u001b[1m1689/1692\u001b[0m \u001b[32m━━━━━━━━━━━━━━━━━━━\u001b[0m\u001b[37m━\u001b[0m \u001b[1m0s\u001b[0m 7ms/step - accuracy: 0.0630 - loss: 0.0475\n",
      "Epoch 11: val_loss improved from 0.04229 to 0.04228, saving model to best_model.weights.h5\n",
      "\u001b[1m1692/1692\u001b[0m \u001b[32m━━━━━━━━━━━━━━━━━━━━\u001b[0m\u001b[37m\u001b[0m \u001b[1m13s\u001b[0m 8ms/step - accuracy: 0.0630 - loss: 0.0475 - val_accuracy: 0.0357 - val_loss: 0.0423\n",
      "Epoch 12/100\n",
      "\u001b[1m1688/1692\u001b[0m \u001b[32m━━━━━━━━━━━━━━━━━━━\u001b[0m\u001b[37m━\u001b[0m \u001b[1m0s\u001b[0m 7ms/step - accuracy: 0.0653 - loss: 0.0472\n",
      "Epoch 12: val_loss did not improve from 0.04228\n",
      "\u001b[1m1692/1692\u001b[0m \u001b[32m━━━━━━━━━━━━━━━━━━━━\u001b[0m\u001b[37m\u001b[0m \u001b[1m14s\u001b[0m 8ms/step - accuracy: 0.0654 - loss: 0.0472 - val_accuracy: 0.0793 - val_loss: 0.0423\n",
      "Epoch 13/100\n",
      "\u001b[1m1685/1692\u001b[0m \u001b[32m━━━━━━━━━━━━━━━━━━━\u001b[0m\u001b[37m━\u001b[0m \u001b[1m0s\u001b[0m 7ms/step - accuracy: 0.0804 - loss: 0.0475\n",
      "Epoch 13: val_loss improved from 0.04228 to 0.04228, saving model to best_model.weights.h5\n",
      "\u001b[1m1692/1692\u001b[0m \u001b[32m━━━━━━━━━━━━━━━━━━━━\u001b[0m\u001b[37m\u001b[0m \u001b[1m13s\u001b[0m 8ms/step - accuracy: 0.0804 - loss: 0.0475 - val_accuracy: 0.0734 - val_loss: 0.0423\n",
      "Epoch 14/100\n",
      "\u001b[1m1686/1692\u001b[0m \u001b[32m━━━━━━━━━━━━━━━━━━━\u001b[0m\u001b[37m━\u001b[0m \u001b[1m0s\u001b[0m 7ms/step - accuracy: 0.0879 - loss: 0.0474\n",
      "Epoch 14: val_loss did not improve from 0.04228\n",
      "\u001b[1m1692/1692\u001b[0m \u001b[32m━━━━━━━━━━━━━━━━━━━━\u001b[0m\u001b[37m\u001b[0m \u001b[1m14s\u001b[0m 8ms/step - accuracy: 0.0879 - loss: 0.0474 - val_accuracy: 0.1314 - val_loss: 0.0423\n",
      "Epoch 15/100\n",
      "\u001b[1m1690/1692\u001b[0m \u001b[32m━━━━━━━━━━━━━━━━━━━\u001b[0m\u001b[37m━\u001b[0m \u001b[1m0s\u001b[0m 7ms/step - accuracy: 0.1030 - loss: 0.0472\n",
      "Epoch 15: val_loss improved from 0.04228 to 0.04227, saving model to best_model.weights.h5\n",
      "\u001b[1m1692/1692\u001b[0m \u001b[32m━━━━━━━━━━━━━━━━━━━━\u001b[0m\u001b[37m\u001b[0m \u001b[1m14s\u001b[0m 8ms/step - accuracy: 0.1030 - loss: 0.0472 - val_accuracy: 0.1045 - val_loss: 0.0423\n",
      "Epoch 16/100\n",
      "\u001b[1m1689/1692\u001b[0m \u001b[32m━━━━━━━━━━━━━━━━━━━\u001b[0m\u001b[37m━\u001b[0m \u001b[1m0s\u001b[0m 7ms/step - accuracy: 0.1042 - loss: 0.0474\n",
      "Epoch 16: val_loss did not improve from 0.04227\n",
      "\u001b[1m1692/1692\u001b[0m \u001b[32m━━━━━━━━━━━━━━━━━━━━\u001b[0m\u001b[37m\u001b[0m \u001b[1m14s\u001b[0m 8ms/step - accuracy: 0.1042 - loss: 0.0474 - val_accuracy: 0.0885 - val_loss: 0.0423\n",
      "Epoch 17/100\n",
      "\u001b[1m1688/1692\u001b[0m \u001b[32m━━━━━━━━━━━━━━━━━━━\u001b[0m\u001b[37m━\u001b[0m \u001b[1m0s\u001b[0m 7ms/step - accuracy: 0.1114 - loss: 0.0473\n",
      "Epoch 17: val_loss did not improve from 0.04227\n",
      "\u001b[1m1692/1692\u001b[0m \u001b[32m━━━━━━━━━━━━━━━━━━━━\u001b[0m\u001b[37m\u001b[0m \u001b[1m14s\u001b[0m 8ms/step - accuracy: 0.1114 - loss: 0.0473 - val_accuracy: 0.1058 - val_loss: 0.0423\n",
      "Epoch 18/100\n",
      "\u001b[1m1687/1692\u001b[0m \u001b[32m━━━━━━━━━━━━━━━━━━━\u001b[0m\u001b[37m━\u001b[0m \u001b[1m0s\u001b[0m 7ms/step - accuracy: 0.1158 - loss: 0.0471\n",
      "Epoch 18: val_loss improved from 0.04227 to 0.04226, saving model to best_model.weights.h5\n",
      "\u001b[1m1692/1692\u001b[0m \u001b[32m━━━━━━━━━━━━━━━━━━━━\u001b[0m\u001b[37m\u001b[0m \u001b[1m13s\u001b[0m 8ms/step - accuracy: 0.1158 - loss: 0.0471 - val_accuracy: 0.1496 - val_loss: 0.0423\n",
      "Epoch 19/100\n",
      "\u001b[1m1689/1692\u001b[0m \u001b[32m━━━━━━━━━━━━━━━━━━━\u001b[0m\u001b[37m━\u001b[0m \u001b[1m0s\u001b[0m 7ms/step - accuracy: 0.1285 - loss: 0.0472\n",
      "Epoch 19: val_loss improved from 0.04226 to 0.04224, saving model to best_model.weights.h5\n",
      "\u001b[1m1692/1692\u001b[0m \u001b[32m━━━━━━━━━━━━━━━━━━━━\u001b[0m\u001b[37m\u001b[0m \u001b[1m14s\u001b[0m 8ms/step - accuracy: 0.1284 - loss: 0.0472 - val_accuracy: 0.1757 - val_loss: 0.0422\n",
      "Epoch 20/100\n",
      "\u001b[1m1690/1692\u001b[0m \u001b[32m━━━━━━━━━━━━━━━━━━━\u001b[0m\u001b[37m━\u001b[0m \u001b[1m0s\u001b[0m 7ms/step - accuracy: 0.1381 - loss: 0.0473\n",
      "Epoch 20: val_loss improved from 0.04224 to 0.04224, saving model to best_model.weights.h5\n",
      "\u001b[1m1692/1692\u001b[0m \u001b[32m━━━━━━━━━━━━━━━━━━━━\u001b[0m\u001b[37m\u001b[0m \u001b[1m14s\u001b[0m 8ms/step - accuracy: 0.1381 - loss: 0.0473 - val_accuracy: 0.1584 - val_loss: 0.0422\n",
      "Epoch 21/100\n",
      "\u001b[1m1690/1692\u001b[0m \u001b[32m━━━━━━━━━━━━━━━━━━━\u001b[0m\u001b[37m━\u001b[0m \u001b[1m0s\u001b[0m 7ms/step - accuracy: 0.1322 - loss: 0.0473\n",
      "Epoch 21: val_loss did not improve from 0.04224\n",
      "\u001b[1m1692/1692\u001b[0m \u001b[32m━━━━━━━━━━━━━━━━━━━━\u001b[0m\u001b[37m\u001b[0m \u001b[1m14s\u001b[0m 8ms/step - accuracy: 0.1322 - loss: 0.0473 - val_accuracy: 0.1736 - val_loss: 0.0422\n",
      "Epoch 22/100\n",
      "\u001b[1m1686/1692\u001b[0m \u001b[32m━━━━━━━━━━━━━━━━━━━\u001b[0m\u001b[37m━\u001b[0m \u001b[1m0s\u001b[0m 7ms/step - accuracy: 0.1384 - loss: 0.0470\n",
      "Epoch 22: val_loss improved from 0.04224 to 0.04223, saving model to best_model.weights.h5\n",
      "\u001b[1m1692/1692\u001b[0m \u001b[32m━━━━━━━━━━━━━━━━━━━━\u001b[0m\u001b[37m\u001b[0m \u001b[1m14s\u001b[0m 8ms/step - accuracy: 0.1384 - loss: 0.0470 - val_accuracy: 0.1445 - val_loss: 0.0422\n",
      "Epoch 23/100\n",
      "\u001b[1m1686/1692\u001b[0m \u001b[32m━━━━━━━━━━━━━━━━━━━\u001b[0m\u001b[37m━\u001b[0m \u001b[1m0s\u001b[0m 7ms/step - accuracy: 0.1372 - loss: 0.0475\n",
      "Epoch 23: val_loss did not improve from 0.04223\n",
      "\u001b[1m1692/1692\u001b[0m \u001b[32m━━━━━━━━━━━━━━━━━━━━\u001b[0m\u001b[37m\u001b[0m \u001b[1m14s\u001b[0m 8ms/step - accuracy: 0.1372 - loss: 0.0475 - val_accuracy: 0.1605 - val_loss: 0.0422\n",
      "Epoch 24/100\n",
      "\u001b[1m1688/1692\u001b[0m \u001b[32m━━━━━━━━━━━━━━━━━━━\u001b[0m\u001b[37m━\u001b[0m \u001b[1m0s\u001b[0m 7ms/step - accuracy: 0.1397 - loss: 0.0471\n",
      "Epoch 24: val_loss did not improve from 0.04223\n",
      "\u001b[1m1692/1692\u001b[0m \u001b[32m━━━━━━━━━━━━━━━━━━━━\u001b[0m\u001b[37m\u001b[0m \u001b[1m13s\u001b[0m 8ms/step - accuracy: 0.1397 - loss: 0.0471 - val_accuracy: 0.1445 - val_loss: 0.0422\n",
      "Epoch 25/100\n",
      "\u001b[1m1689/1692\u001b[0m \u001b[32m━━━━━━━━━━━━━━━━━━━\u001b[0m\u001b[37m━\u001b[0m \u001b[1m0s\u001b[0m 7ms/step - accuracy: 0.1439 - loss: 0.0469\n",
      "Epoch 25: val_loss did not improve from 0.04223\n",
      "\u001b[1m1692/1692\u001b[0m \u001b[32m━━━━━━━━━━━━━━━━━━━━\u001b[0m\u001b[37m\u001b[0m \u001b[1m14s\u001b[0m 8ms/step - accuracy: 0.1439 - loss: 0.0469 - val_accuracy: 0.1460 - val_loss: 0.0422\n",
      "Epoch 26/100\n",
      "\u001b[1m1692/1692\u001b[0m \u001b[32m━━━━━━━━━━━━━━━━━━━━\u001b[0m\u001b[37m\u001b[0m \u001b[1m0s\u001b[0m 7ms/step - accuracy: 0.1345 - loss: 0.0470\n",
      "Epoch 26: val_loss improved from 0.04223 to 0.04222, saving model to best_model.weights.h5\n",
      "\u001b[1m1692/1692\u001b[0m \u001b[32m━━━━━━━━━━━━━━━━━━━━\u001b[0m\u001b[37m\u001b[0m \u001b[1m14s\u001b[0m 8ms/step - accuracy: 0.1345 - loss: 0.0470 - val_accuracy: 0.1436 - val_loss: 0.0422\n",
      "Epoch 27/100\n",
      "\u001b[1m1687/1692\u001b[0m \u001b[32m━━━━━━━━━━━━━━━━━━━\u001b[0m\u001b[37m━\u001b[0m \u001b[1m0s\u001b[0m 7ms/step - accuracy: 0.1444 - loss: 0.0471\n",
      "Epoch 27: val_loss improved from 0.04222 to 0.04222, saving model to best_model.weights.h5\n",
      "\u001b[1m1692/1692\u001b[0m \u001b[32m━━━━━━━━━━━━━━━━━━━━\u001b[0m\u001b[37m\u001b[0m \u001b[1m14s\u001b[0m 8ms/step - accuracy: 0.1444 - loss: 0.0471 - val_accuracy: 0.1678 - val_loss: 0.0422\n",
      "Epoch 28/100\n",
      "\u001b[1m1692/1692\u001b[0m \u001b[32m━━━━━━━━━━━━━━━━━━━━\u001b[0m\u001b[37m\u001b[0m \u001b[1m0s\u001b[0m 7ms/step - accuracy: 0.1400 - loss: 0.0469\n",
      "Epoch 28: val_loss did not improve from 0.04222\n",
      "\u001b[1m1692/1692\u001b[0m \u001b[32m━━━━━━━━━━━━━━━━━━━━\u001b[0m\u001b[37m\u001b[0m \u001b[1m14s\u001b[0m 8ms/step - accuracy: 0.1400 - loss: 0.0469 - val_accuracy: 0.1487 - val_loss: 0.0422\n",
      "Epoch 29/100\n",
      "\u001b[1m1691/1692\u001b[0m \u001b[32m━━━━━━━━━━━━━━━━━━━\u001b[0m\u001b[37m━\u001b[0m \u001b[1m0s\u001b[0m 7ms/step - accuracy: 0.1369 - loss: 0.0471\n",
      "Epoch 29: val_loss did not improve from 0.04222\n",
      "\u001b[1m1692/1692\u001b[0m \u001b[32m━━━━━━━━━━━━━━━━━━━━\u001b[0m\u001b[37m\u001b[0m \u001b[1m14s\u001b[0m 8ms/step - accuracy: 0.1369 - loss: 0.0471 - val_accuracy: 0.1503 - val_loss: 0.0422\n",
      "Epoch 30/100\n",
      "\u001b[1m1690/1692\u001b[0m \u001b[32m━━━━━━━━━━━━━━━━━━━\u001b[0m\u001b[37m━\u001b[0m \u001b[1m0s\u001b[0m 7ms/step - accuracy: 0.1464 - loss: 0.0471\n",
      "Epoch 30: val_loss improved from 0.04222 to 0.04221, saving model to best_model.weights.h5\n",
      "\u001b[1m1692/1692\u001b[0m \u001b[32m━━━━━━━━━━━━━━━━━━━━\u001b[0m\u001b[37m\u001b[0m \u001b[1m14s\u001b[0m 8ms/step - accuracy: 0.1463 - loss: 0.0471 - val_accuracy: 0.1531 - val_loss: 0.0422\n",
      "Epoch 31/100\n",
      "\u001b[1m1687/1692\u001b[0m \u001b[32m━━━━━━━━━━━━━━━━━━━\u001b[0m\u001b[37m━\u001b[0m \u001b[1m0s\u001b[0m 7ms/step - accuracy: 0.1391 - loss: 0.0471\n",
      "Epoch 31: val_loss did not improve from 0.04221\n",
      "\u001b[1m1692/1692\u001b[0m \u001b[32m━━━━━━━━━━━━━━━━━━━━\u001b[0m\u001b[37m\u001b[0m \u001b[1m14s\u001b[0m 8ms/step - accuracy: 0.1391 - loss: 0.0471 - val_accuracy: 0.1579 - val_loss: 0.0422\n",
      "Epoch 32/100\n",
      "\u001b[1m1689/1692\u001b[0m \u001b[32m━━━━━━━━━━━━━━━━━━━\u001b[0m\u001b[37m━\u001b[0m \u001b[1m0s\u001b[0m 7ms/step - accuracy: 0.1496 - loss: 0.0472\n",
      "Epoch 32: val_loss improved from 0.04221 to 0.04219, saving model to best_model.weights.h5\n",
      "\u001b[1m1692/1692\u001b[0m \u001b[32m━━━━━━━━━━━━━━━━━━━━\u001b[0m\u001b[37m\u001b[0m \u001b[1m13s\u001b[0m 8ms/step - accuracy: 0.1496 - loss: 0.0472 - val_accuracy: 0.1359 - val_loss: 0.0422\n",
      "Epoch 33/100\n",
      "\u001b[1m1688/1692\u001b[0m \u001b[32m━━━━━━━━━━━━━━━━━━━\u001b[0m\u001b[37m━\u001b[0m \u001b[1m0s\u001b[0m 7ms/step - accuracy: 0.1406 - loss: 0.0470\n",
      "Epoch 33: val_loss did not improve from 0.04219\n",
      "\u001b[1m1692/1692\u001b[0m \u001b[32m━━━━━━━━━━━━━━━━━━━━\u001b[0m\u001b[37m\u001b[0m \u001b[1m14s\u001b[0m 8ms/step - accuracy: 0.1406 - loss: 0.0470 - val_accuracy: 0.1476 - val_loss: 0.0422\n",
      "Epoch 34/100\n",
      "\u001b[1m1688/1692\u001b[0m \u001b[32m━━━━━━━━━━━━━━━━━━━\u001b[0m\u001b[37m━\u001b[0m \u001b[1m0s\u001b[0m 7ms/step - accuracy: 0.1437 - loss: 0.0470\n",
      "Epoch 34: val_loss did not improve from 0.04219\n",
      "\u001b[1m1692/1692\u001b[0m \u001b[32m━━━━━━━━━━━━━━━━━━━━\u001b[0m\u001b[37m\u001b[0m \u001b[1m13s\u001b[0m 8ms/step - accuracy: 0.1437 - loss: 0.0470 - val_accuracy: 0.1290 - val_loss: 0.0422\n",
      "Epoch 35/100\n",
      "\u001b[1m1691/1692\u001b[0m \u001b[32m━━━━━━━━━━━━━━━━━━━\u001b[0m\u001b[37m━\u001b[0m \u001b[1m0s\u001b[0m 7ms/step - accuracy: 0.1460 - loss: 0.0469\n",
      "Epoch 35: val_loss did not improve from 0.04219\n",
      "\u001b[1m1692/1692\u001b[0m \u001b[32m━━━━━━━━━━━━━━━━━━━━\u001b[0m\u001b[37m\u001b[0m \u001b[1m14s\u001b[0m 8ms/step - accuracy: 0.1460 - loss: 0.0469 - val_accuracy: 0.1369 - val_loss: 0.0422\n",
      "Epoch 36/100\n",
      "\u001b[1m1688/1692\u001b[0m \u001b[32m━━━━━━━━━━━━━━━━━━━\u001b[0m\u001b[37m━\u001b[0m \u001b[1m0s\u001b[0m 7ms/step - accuracy: 0.1479 - loss: 0.0468\n",
      "Epoch 36: val_loss did not improve from 0.04219\n",
      "\u001b[1m1692/1692\u001b[0m \u001b[32m━━━━━━━━━━━━━━━━━━━━\u001b[0m\u001b[37m\u001b[0m \u001b[1m14s\u001b[0m 8ms/step - accuracy: 0.1479 - loss: 0.0468 - val_accuracy: 0.1408 - val_loss: 0.0422\n",
      "Epoch 37/100\n",
      "\u001b[1m1692/1692\u001b[0m \u001b[32m━━━━━━━━━━━━━━━━━━━━\u001b[0m\u001b[37m\u001b[0m \u001b[1m0s\u001b[0m 7ms/step - accuracy: 0.1512 - loss: 0.0469\n",
      "Epoch 37: val_loss did not improve from 0.04219\n",
      "\u001b[1m1692/1692\u001b[0m \u001b[32m━━━━━━━━━━━━━━━━━━━━\u001b[0m\u001b[37m\u001b[0m \u001b[1m14s\u001b[0m 8ms/step - accuracy: 0.1512 - loss: 0.0469 - val_accuracy: 0.1559 - val_loss: 0.0422\n",
      "Epoch 38/100\n",
      "\u001b[1m1691/1692\u001b[0m \u001b[32m━━━━━━━━━━━━━━━━━━━\u001b[0m\u001b[37m━\u001b[0m \u001b[1m0s\u001b[0m 7ms/step - accuracy: 0.1465 - loss: 0.0471\n",
      "Epoch 38: val_loss improved from 0.04219 to 0.04218, saving model to best_model.weights.h5\n",
      "\u001b[1m1692/1692\u001b[0m \u001b[32m━━━━━━━━━━━━━━━━━━━━\u001b[0m\u001b[37m\u001b[0m \u001b[1m14s\u001b[0m 8ms/step - accuracy: 0.1465 - loss: 0.0471 - val_accuracy: 0.1310 - val_loss: 0.0422\n",
      "Epoch 39/100\n",
      "\u001b[1m1688/1692\u001b[0m \u001b[32m━━━━━━━━━━━━━━━━━━━\u001b[0m\u001b[37m━\u001b[0m \u001b[1m0s\u001b[0m 7ms/step - accuracy: 0.1426 - loss: 0.0472\n",
      "Epoch 39: val_loss did not improve from 0.04218\n",
      "\u001b[1m1692/1692\u001b[0m \u001b[32m━━━━━━━━━━━━━━━━━━━━\u001b[0m\u001b[37m\u001b[0m \u001b[1m14s\u001b[0m 8ms/step - accuracy: 0.1426 - loss: 0.0472 - val_accuracy: 0.1273 - val_loss: 0.0422\n",
      "Epoch 40/100\n",
      "\u001b[1m1689/1692\u001b[0m \u001b[32m━━━━━━━━━━━━━━━━━━━\u001b[0m\u001b[37m━\u001b[0m \u001b[1m0s\u001b[0m 7ms/step - accuracy: 0.1500 - loss: 0.0470\n",
      "Epoch 40: val_loss did not improve from 0.04218\n",
      "\u001b[1m1692/1692\u001b[0m \u001b[32m━━━━━━━━━━━━━━━━━━━━\u001b[0m\u001b[37m\u001b[0m \u001b[1m14s\u001b[0m 8ms/step - accuracy: 0.1500 - loss: 0.0470 - val_accuracy: 0.1266 - val_loss: 0.0422\n",
      "Epoch 41/100\n",
      "\u001b[1m1692/1692\u001b[0m \u001b[32m━━━━━━━━━━━━━━━━━━━━\u001b[0m\u001b[37m\u001b[0m \u001b[1m0s\u001b[0m 7ms/step - accuracy: 0.1368 - loss: 0.0471\n",
      "Epoch 41: val_loss did not improve from 0.04218\n",
      "\u001b[1m1692/1692\u001b[0m \u001b[32m━━━━━━━━━━━━━━━━━━━━\u001b[0m\u001b[37m\u001b[0m \u001b[1m14s\u001b[0m 8ms/step - accuracy: 0.1368 - loss: 0.0471 - val_accuracy: 0.1412 - val_loss: 0.0422\n",
      "Epoch 42/100\n",
      "\u001b[1m1689/1692\u001b[0m \u001b[32m━━━━━━━━━━━━━━━━━━━\u001b[0m\u001b[37m━\u001b[0m \u001b[1m0s\u001b[0m 7ms/step - accuracy: 0.1443 - loss: 0.0469\n",
      "Epoch 42: val_loss improved from 0.04218 to 0.04215, saving model to best_model.weights.h5\n",
      "\u001b[1m1692/1692\u001b[0m \u001b[32m━━━━━━━━━━━━━━━━━━━━\u001b[0m\u001b[37m\u001b[0m \u001b[1m14s\u001b[0m 8ms/step - accuracy: 0.1443 - loss: 0.0469 - val_accuracy: 0.1334 - val_loss: 0.0421\n",
      "Epoch 43/100\n",
      "\u001b[1m1691/1692\u001b[0m \u001b[32m━━━━━━━━━━━━━━━━━━━\u001b[0m\u001b[37m━\u001b[0m \u001b[1m0s\u001b[0m 7ms/step - accuracy: 0.1401 - loss: 0.0468\n",
      "Epoch 43: val_loss improved from 0.04215 to 0.04214, saving model to best_model.weights.h5\n",
      "\u001b[1m1692/1692\u001b[0m \u001b[32m━━━━━━━━━━━━━━━━━━━━\u001b[0m\u001b[37m\u001b[0m \u001b[1m14s\u001b[0m 8ms/step - accuracy: 0.1401 - loss: 0.0468 - val_accuracy: 0.1468 - val_loss: 0.0421\n",
      "Epoch 44/100\n",
      "\u001b[1m1689/1692\u001b[0m \u001b[32m━━━━━━━━━━━━━━━━━━━\u001b[0m\u001b[37m━\u001b[0m \u001b[1m0s\u001b[0m 7ms/step - accuracy: 0.1511 - loss: 0.0468\n",
      "Epoch 44: val_loss did not improve from 0.04214\n",
      "\u001b[1m1692/1692\u001b[0m \u001b[32m━━━━━━━━━━━━━━━━━━━━\u001b[0m\u001b[37m\u001b[0m \u001b[1m14s\u001b[0m 8ms/step - accuracy: 0.1511 - loss: 0.0468 - val_accuracy: 0.1350 - val_loss: 0.0422\n",
      "Epoch 45/100\n",
      "\u001b[1m1685/1692\u001b[0m \u001b[32m━━━━━━━━━━━━━━━━━━━\u001b[0m\u001b[37m━\u001b[0m \u001b[1m0s\u001b[0m 7ms/step - accuracy: 0.1484 - loss: 0.0470\n",
      "Epoch 45: val_loss did not improve from 0.04214\n",
      "\u001b[1m1692/1692\u001b[0m \u001b[32m━━━━━━━━━━━━━━━━━━━━\u001b[0m\u001b[37m\u001b[0m \u001b[1m14s\u001b[0m 8ms/step - accuracy: 0.1484 - loss: 0.0470 - val_accuracy: 0.1339 - val_loss: 0.0422\n",
      "Epoch 46/100\n",
      "\u001b[1m1687/1692\u001b[0m \u001b[32m━━━━━━━━━━━━━━━━━━━\u001b[0m\u001b[37m━\u001b[0m \u001b[1m0s\u001b[0m 7ms/step - accuracy: 0.1418 - loss: 0.0469\n",
      "Epoch 46: val_loss did not improve from 0.04214\n",
      "\u001b[1m1692/1692\u001b[0m \u001b[32m━━━━━━━━━━━━━━━━━━━━\u001b[0m\u001b[37m\u001b[0m \u001b[1m13s\u001b[0m 8ms/step - accuracy: 0.1418 - loss: 0.0469 - val_accuracy: 0.1307 - val_loss: 0.0422\n",
      "Epoch 47/100\n",
      "\u001b[1m1690/1692\u001b[0m \u001b[32m━━━━━━━━━━━━━━━━━━━\u001b[0m\u001b[37m━\u001b[0m \u001b[1m0s\u001b[0m 7ms/step - accuracy: 0.1485 - loss: 0.0471\n",
      "Epoch 47: val_loss improved from 0.04214 to 0.04213, saving model to best_model.weights.h5\n",
      "\u001b[1m1692/1692\u001b[0m \u001b[32m━━━━━━━━━━━━━━━━━━━━\u001b[0m\u001b[37m\u001b[0m \u001b[1m14s\u001b[0m 8ms/step - accuracy: 0.1485 - loss: 0.0471 - val_accuracy: 0.1360 - val_loss: 0.0421\n",
      "Epoch 48/100\n",
      "\u001b[1m1686/1692\u001b[0m \u001b[32m━━━━━━━━━━━━━━━━━━━\u001b[0m\u001b[37m━\u001b[0m \u001b[1m0s\u001b[0m 7ms/step - accuracy: 0.1440 - loss: 0.0469\n",
      "Epoch 48: val_loss did not improve from 0.04213\n",
      "\u001b[1m1692/1692\u001b[0m \u001b[32m━━━━━━━━━━━━━━━━━━━━\u001b[0m\u001b[37m\u001b[0m \u001b[1m13s\u001b[0m 8ms/step - accuracy: 0.1440 - loss: 0.0469 - val_accuracy: 0.1433 - val_loss: 0.0421\n",
      "Epoch 49/100\n",
      "\u001b[1m1692/1692\u001b[0m \u001b[32m━━━━━━━━━━━━━━━━━━━━\u001b[0m\u001b[37m\u001b[0m \u001b[1m0s\u001b[0m 7ms/step - accuracy: 0.1418 - loss: 0.0468\n",
      "Epoch 49: val_loss did not improve from 0.04213\n",
      "\u001b[1m1692/1692\u001b[0m \u001b[32m━━━━━━━━━━━━━━━━━━━━\u001b[0m\u001b[37m\u001b[0m \u001b[1m14s\u001b[0m 8ms/step - accuracy: 0.1418 - loss: 0.0468 - val_accuracy: 0.1426 - val_loss: 0.0421\n",
      "Epoch 50/100\n",
      "\u001b[1m1691/1692\u001b[0m \u001b[32m━━━━━━━━━━━━━━━━━━━\u001b[0m\u001b[37m━\u001b[0m \u001b[1m0s\u001b[0m 7ms/step - accuracy: 0.1507 - loss: 0.0468\n",
      "Epoch 50: val_loss improved from 0.04213 to 0.04212, saving model to best_model.weights.h5\n",
      "\u001b[1m1692/1692\u001b[0m \u001b[32m━━━━━━━━━━━━━━━━━━━━\u001b[0m\u001b[37m\u001b[0m \u001b[1m14s\u001b[0m 8ms/step - accuracy: 0.1507 - loss: 0.0468 - val_accuracy: 0.1342 - val_loss: 0.0421\n",
      "Epoch 51/100\n",
      "\u001b[1m1691/1692\u001b[0m \u001b[32m━━━━━━━━━━━━━━━━━━━\u001b[0m\u001b[37m━\u001b[0m \u001b[1m0s\u001b[0m 7ms/step - accuracy: 0.1439 - loss: 0.0471\n",
      "Epoch 51: val_loss improved from 0.04212 to 0.04210, saving model to best_model.weights.h5\n",
      "\u001b[1m1692/1692\u001b[0m \u001b[32m━━━━━━━━━━━━━━━━━━━━\u001b[0m\u001b[37m\u001b[0m \u001b[1m14s\u001b[0m 8ms/step - accuracy: 0.1439 - loss: 0.0471 - val_accuracy: 0.1454 - val_loss: 0.0421\n",
      "Epoch 52/100\n",
      "\u001b[1m1689/1692\u001b[0m \u001b[32m━━━━━━━━━━━━━━━━━━━\u001b[0m\u001b[37m━\u001b[0m \u001b[1m0s\u001b[0m 7ms/step - accuracy: 0.1461 - loss: 0.0471\n",
      "Epoch 52: val_loss did not improve from 0.04210\n",
      "\u001b[1m1692/1692\u001b[0m \u001b[32m━━━━━━━━━━━━━━━━━━━━\u001b[0m\u001b[37m\u001b[0m \u001b[1m13s\u001b[0m 8ms/step - accuracy: 0.1461 - loss: 0.0470 - val_accuracy: 0.1425 - val_loss: 0.0422\n",
      "Epoch 53/100\n",
      "\u001b[1m1688/1692\u001b[0m \u001b[32m━━━━━━━━━━━━━━━━━━━\u001b[0m\u001b[37m━\u001b[0m \u001b[1m0s\u001b[0m 7ms/step - accuracy: 0.1456 - loss: 0.0473\n",
      "Epoch 53: val_loss improved from 0.04210 to 0.04210, saving model to best_model.weights.h5\n",
      "\u001b[1m1692/1692\u001b[0m \u001b[32m━━━━━━━━━━━━━━━━━━━━\u001b[0m\u001b[37m\u001b[0m \u001b[1m14s\u001b[0m 8ms/step - accuracy: 0.1456 - loss: 0.0473 - val_accuracy: 0.1445 - val_loss: 0.0421\n",
      "Epoch 54/100\n",
      "\u001b[1m1685/1692\u001b[0m \u001b[32m━━━━━━━━━━━━━━━━━━━\u001b[0m\u001b[37m━\u001b[0m \u001b[1m0s\u001b[0m 7ms/step - accuracy: 0.1443 - loss: 0.0468\n",
      "Epoch 54: val_loss did not improve from 0.04210\n",
      "\u001b[1m1692/1692\u001b[0m \u001b[32m━━━━━━━━━━━━━━━━━━━━\u001b[0m\u001b[37m\u001b[0m \u001b[1m14s\u001b[0m 8ms/step - accuracy: 0.1443 - loss: 0.0468 - val_accuracy: 0.1449 - val_loss: 0.0421\n",
      "Epoch 55/100\n",
      "\u001b[1m1690/1692\u001b[0m \u001b[32m━━━━━━━━━━━━━━━━━━━\u001b[0m\u001b[37m━\u001b[0m \u001b[1m0s\u001b[0m 7ms/step - accuracy: 0.1456 - loss: 0.0468\n",
      "Epoch 55: val_loss improved from 0.04210 to 0.04209, saving model to best_model.weights.h5\n",
      "\u001b[1m1692/1692\u001b[0m \u001b[32m━━━━━━━━━━━━━━━━━━━━\u001b[0m\u001b[37m\u001b[0m \u001b[1m14s\u001b[0m 8ms/step - accuracy: 0.1456 - loss: 0.0468 - val_accuracy: 0.1577 - val_loss: 0.0421\n",
      "Epoch 56/100\n",
      "\u001b[1m1688/1692\u001b[0m \u001b[32m━━━━━━━━━━━━━━━━━━━\u001b[0m\u001b[37m━\u001b[0m \u001b[1m0s\u001b[0m 7ms/step - accuracy: 0.1517 - loss: 0.0469\n",
      "Epoch 56: val_loss did not improve from 0.04209\n",
      "\u001b[1m1692/1692\u001b[0m \u001b[32m━━━━━━━━━━━━━━━━━━━━\u001b[0m\u001b[37m\u001b[0m \u001b[1m14s\u001b[0m 8ms/step - accuracy: 0.1517 - loss: 0.0469 - val_accuracy: 0.1248 - val_loss: 0.0421\n",
      "Epoch 57/100\n",
      "\u001b[1m1692/1692\u001b[0m \u001b[32m━━━━━━━━━━━━━━━━━━━━\u001b[0m\u001b[37m\u001b[0m \u001b[1m0s\u001b[0m 7ms/step - accuracy: 0.1436 - loss: 0.0467\n",
      "Epoch 57: val_loss improved from 0.04209 to 0.04206, saving model to best_model.weights.h5\n",
      "\u001b[1m1692/1692\u001b[0m \u001b[32m━━━━━━━━━━━━━━━━━━━━\u001b[0m\u001b[37m\u001b[0m \u001b[1m14s\u001b[0m 8ms/step - accuracy: 0.1436 - loss: 0.0467 - val_accuracy: 0.1567 - val_loss: 0.0421\n",
      "Epoch 58/100\n",
      "\u001b[1m1685/1692\u001b[0m \u001b[32m━━━━━━━━━━━━━━━━━━━\u001b[0m\u001b[37m━\u001b[0m \u001b[1m0s\u001b[0m 7ms/step - accuracy: 0.1536 - loss: 0.0468\n",
      "Epoch 58: val_loss did not improve from 0.04206\n",
      "\u001b[1m1692/1692\u001b[0m \u001b[32m━━━━━━━━━━━━━━━━━━━━\u001b[0m\u001b[37m\u001b[0m \u001b[1m14s\u001b[0m 8ms/step - accuracy: 0.1536 - loss: 0.0468 - val_accuracy: 0.1333 - val_loss: 0.0421\n",
      "Epoch 59/100\n",
      "\u001b[1m1689/1692\u001b[0m \u001b[32m━━━━━━━━━━━━━━━━━━━\u001b[0m\u001b[37m━\u001b[0m \u001b[1m0s\u001b[0m 7ms/step - accuracy: 0.1428 - loss: 0.0469\n",
      "Epoch 59: val_loss did not improve from 0.04206\n",
      "\u001b[1m1692/1692\u001b[0m \u001b[32m━━━━━━━━━━━━━━━━━━━━\u001b[0m\u001b[37m\u001b[0m \u001b[1m14s\u001b[0m 8ms/step - accuracy: 0.1428 - loss: 0.0469 - val_accuracy: 0.1315 - val_loss: 0.0421\n",
      "Epoch 60/100\n",
      "\u001b[1m1688/1692\u001b[0m \u001b[32m━━━━━━━━━━━━━━━━━━━\u001b[0m\u001b[37m━\u001b[0m \u001b[1m0s\u001b[0m 7ms/step - accuracy: 0.1437 - loss: 0.0466\n",
      "Epoch 60: val_loss did not improve from 0.04206\n",
      "\u001b[1m1692/1692\u001b[0m \u001b[32m━━━━━━━━━━━━━━━━━━━━\u001b[0m\u001b[37m\u001b[0m \u001b[1m14s\u001b[0m 8ms/step - accuracy: 0.1437 - loss: 0.0466 - val_accuracy: 0.1476 - val_loss: 0.0421\n",
      "Epoch 61/100\n",
      "\u001b[1m1690/1692\u001b[0m \u001b[32m━━━━━━━━━━━━━━━━━━━\u001b[0m\u001b[37m━\u001b[0m \u001b[1m0s\u001b[0m 7ms/step - accuracy: 0.1418 - loss: 0.0466\n",
      "Epoch 61: val_loss improved from 0.04206 to 0.04204, saving model to best_model.weights.h5\n",
      "\u001b[1m1692/1692\u001b[0m \u001b[32m━━━━━━━━━━━━━━━━━━━━\u001b[0m\u001b[37m\u001b[0m \u001b[1m14s\u001b[0m 8ms/step - accuracy: 0.1418 - loss: 0.0466 - val_accuracy: 0.1462 - val_loss: 0.0420\n",
      "Epoch 62/100\n",
      "\u001b[1m1691/1692\u001b[0m \u001b[32m━━━━━━━━━━━━━━━━━━━\u001b[0m\u001b[37m━\u001b[0m \u001b[1m0s\u001b[0m 7ms/step - accuracy: 0.1502 - loss: 0.0466\n",
      "Epoch 62: val_loss improved from 0.04204 to 0.04203, saving model to best_model.weights.h5\n",
      "\u001b[1m1692/1692\u001b[0m \u001b[32m━━━━━━━━━━━━━━━━━━━━\u001b[0m\u001b[37m\u001b[0m \u001b[1m14s\u001b[0m 8ms/step - accuracy: 0.1502 - loss: 0.0466 - val_accuracy: 0.1261 - val_loss: 0.0420\n",
      "Epoch 63/100\n",
      "\u001b[1m1690/1692\u001b[0m \u001b[32m━━━━━━━━━━━━━━━━━━━\u001b[0m\u001b[37m━\u001b[0m \u001b[1m0s\u001b[0m 7ms/step - accuracy: 0.1418 - loss: 0.0469\n",
      "Epoch 63: val_loss did not improve from 0.04203\n",
      "\u001b[1m1692/1692\u001b[0m \u001b[32m━━━━━━━━━━━━━━━━━━━━\u001b[0m\u001b[37m\u001b[0m \u001b[1m14s\u001b[0m 8ms/step - accuracy: 0.1418 - loss: 0.0469 - val_accuracy: 0.1460 - val_loss: 0.0420\n",
      "Epoch 64/100\n",
      "\u001b[1m1689/1692\u001b[0m \u001b[32m━━━━━━━━━━━━━━━━━━━\u001b[0m\u001b[37m━\u001b[0m \u001b[1m0s\u001b[0m 7ms/step - accuracy: 0.1524 - loss: 0.0468\n",
      "Epoch 64: val_loss did not improve from 0.04203\n",
      "\u001b[1m1692/1692\u001b[0m \u001b[32m━━━━━━━━━━━━━━━━━━━━\u001b[0m\u001b[37m\u001b[0m \u001b[1m14s\u001b[0m 8ms/step - accuracy: 0.1524 - loss: 0.0468 - val_accuracy: 0.1289 - val_loss: 0.0420\n",
      "Epoch 65/100\n",
      "\u001b[1m1689/1692\u001b[0m \u001b[32m━━━━━━━━━━━━━━━━━━━\u001b[0m\u001b[37m━\u001b[0m \u001b[1m0s\u001b[0m 7ms/step - accuracy: 0.1452 - loss: 0.0468\n",
      "Epoch 65: val_loss improved from 0.04203 to 0.04201, saving model to best_model.weights.h5\n",
      "\u001b[1m1692/1692\u001b[0m \u001b[32m━━━━━━━━━━━━━━━━━━━━\u001b[0m\u001b[37m\u001b[0m \u001b[1m14s\u001b[0m 8ms/step - accuracy: 0.1452 - loss: 0.0468 - val_accuracy: 0.1433 - val_loss: 0.0420\n",
      "Epoch 66/100\n",
      "\u001b[1m1690/1692\u001b[0m \u001b[32m━━━━━━━━━━━━━━━━━━━\u001b[0m\u001b[37m━\u001b[0m \u001b[1m0s\u001b[0m 7ms/step - accuracy: 0.1441 - loss: 0.0467\n",
      "Epoch 66: val_loss did not improve from 0.04201\n",
      "\u001b[1m1692/1692\u001b[0m \u001b[32m━━━━━━━━━━━━━━━━━━━━\u001b[0m\u001b[37m\u001b[0m \u001b[1m14s\u001b[0m 8ms/step - accuracy: 0.1441 - loss: 0.0467 - val_accuracy: 0.1267 - val_loss: 0.0420\n",
      "Epoch 67/100\n",
      "\u001b[1m1691/1692\u001b[0m \u001b[32m━━━━━━━━━━━━━━━━━━━\u001b[0m\u001b[37m━\u001b[0m \u001b[1m0s\u001b[0m 7ms/step - accuracy: 0.1458 - loss: 0.0465\n",
      "Epoch 67: val_loss did not improve from 0.04201\n",
      "\u001b[1m1692/1692\u001b[0m \u001b[32m━━━━━━━━━━━━━━━━━━━━\u001b[0m\u001b[37m\u001b[0m \u001b[1m14s\u001b[0m 8ms/step - accuracy: 0.1458 - loss: 0.0465 - val_accuracy: 0.1282 - val_loss: 0.0420\n",
      "Epoch 68/100\n",
      "\u001b[1m1687/1692\u001b[0m \u001b[32m━━━━━━━━━━━━━━━━━━━\u001b[0m\u001b[37m━\u001b[0m \u001b[1m0s\u001b[0m 7ms/step - accuracy: 0.1420 - loss: 0.0465\n",
      "Epoch 68: val_loss improved from 0.04201 to 0.04197, saving model to best_model.weights.h5\n",
      "\u001b[1m1692/1692\u001b[0m \u001b[32m━━━━━━━━━━━━━━━━━━━━\u001b[0m\u001b[37m\u001b[0m \u001b[1m13s\u001b[0m 8ms/step - accuracy: 0.1420 - loss: 0.0465 - val_accuracy: 0.1346 - val_loss: 0.0420\n",
      "Epoch 69/100\n",
      "\u001b[1m1688/1692\u001b[0m \u001b[32m━━━━━━━━━━━━━━━━━━━\u001b[0m\u001b[37m━\u001b[0m \u001b[1m0s\u001b[0m 7ms/step - accuracy: 0.1452 - loss: 0.0468\n",
      "Epoch 69: val_loss did not improve from 0.04197\n",
      "\u001b[1m1692/1692\u001b[0m \u001b[32m━━━━━━━━━━━━━━━━━━━━\u001b[0m\u001b[37m\u001b[0m \u001b[1m14s\u001b[0m 8ms/step - accuracy: 0.1452 - loss: 0.0468 - val_accuracy: 0.1438 - val_loss: 0.0420\n",
      "Epoch 70/100\n",
      "\u001b[1m1691/1692\u001b[0m \u001b[32m━━━━━━━━━━━━━━━━━━━\u001b[0m\u001b[37m━\u001b[0m \u001b[1m0s\u001b[0m 7ms/step - accuracy: 0.1576 - loss: 0.0466\n",
      "Epoch 70: val_loss improved from 0.04197 to 0.04197, saving model to best_model.weights.h5\n",
      "\u001b[1m1692/1692\u001b[0m \u001b[32m━━━━━━━━━━━━━━━━━━━━\u001b[0m\u001b[37m\u001b[0m \u001b[1m14s\u001b[0m 8ms/step - accuracy: 0.1576 - loss: 0.0466 - val_accuracy: 0.1366 - val_loss: 0.0420\n",
      "Epoch 71/100\n",
      "\u001b[1m1685/1692\u001b[0m \u001b[32m━━━━━━━━━━━━━━━━━━━\u001b[0m\u001b[37m━\u001b[0m \u001b[1m0s\u001b[0m 7ms/step - accuracy: 0.1438 - loss: 0.0466\n",
      "Epoch 71: val_loss did not improve from 0.04197\n",
      "\u001b[1m1692/1692\u001b[0m \u001b[32m━━━━━━━━━━━━━━━━━━━━\u001b[0m\u001b[37m\u001b[0m \u001b[1m14s\u001b[0m 8ms/step - accuracy: 0.1438 - loss: 0.0466 - val_accuracy: 0.1523 - val_loss: 0.0420\n",
      "Epoch 72/100\n",
      "\u001b[1m1687/1692\u001b[0m \u001b[32m━━━━━━━━━━━━━━━━━━━\u001b[0m\u001b[37m━\u001b[0m \u001b[1m0s\u001b[0m 7ms/step - accuracy: 0.1470 - loss: 0.0465\n",
      "Epoch 72: val_loss improved from 0.04197 to 0.04196, saving model to best_model.weights.h5\n",
      "\u001b[1m1692/1692\u001b[0m \u001b[32m━━━━━━━━━━━━━━━━━━━━\u001b[0m\u001b[37m\u001b[0m \u001b[1m14s\u001b[0m 8ms/step - accuracy: 0.1470 - loss: 0.0465 - val_accuracy: 0.1423 - val_loss: 0.0420\n",
      "Epoch 73/100\n",
      "\u001b[1m1688/1692\u001b[0m \u001b[32m━━━━━━━━━━━━━━━━━━━\u001b[0m\u001b[37m━\u001b[0m \u001b[1m0s\u001b[0m 7ms/step - accuracy: 0.1470 - loss: 0.0466\n",
      "Epoch 73: val_loss improved from 0.04196 to 0.04195, saving model to best_model.weights.h5\n",
      "\u001b[1m1692/1692\u001b[0m \u001b[32m━━━━━━━━━━━━━━━━━━━━\u001b[0m\u001b[37m\u001b[0m \u001b[1m14s\u001b[0m 8ms/step - accuracy: 0.1471 - loss: 0.0466 - val_accuracy: 0.1644 - val_loss: 0.0420\n",
      "Epoch 74/100\n",
      "\u001b[1m1685/1692\u001b[0m \u001b[32m━━━━━━━━━━━━━━━━━━━\u001b[0m\u001b[37m━\u001b[0m \u001b[1m0s\u001b[0m 7ms/step - accuracy: 0.1557 - loss: 0.0464\n",
      "Epoch 74: val_loss improved from 0.04195 to 0.04191, saving model to best_model.weights.h5\n",
      "\u001b[1m1692/1692\u001b[0m \u001b[32m━━━━━━━━━━━━━━━━━━━━\u001b[0m\u001b[37m\u001b[0m \u001b[1m14s\u001b[0m 8ms/step - accuracy: 0.1556 - loss: 0.0464 - val_accuracy: 0.1406 - val_loss: 0.0419\n",
      "Epoch 75/100\n",
      "\u001b[1m1688/1692\u001b[0m \u001b[32m━━━━━━━━━━━━━━━━━━━\u001b[0m\u001b[37m━\u001b[0m \u001b[1m0s\u001b[0m 7ms/step - accuracy: 0.1454 - loss: 0.0466\n",
      "Epoch 75: val_loss did not improve from 0.04191\n",
      "\u001b[1m1692/1692\u001b[0m \u001b[32m━━━━━━━━━━━━━━━━━━━━\u001b[0m\u001b[37m\u001b[0m \u001b[1m13s\u001b[0m 8ms/step - accuracy: 0.1454 - loss: 0.0466 - val_accuracy: 0.1376 - val_loss: 0.0419\n",
      "Epoch 76/100\n",
      "\u001b[1m1690/1692\u001b[0m \u001b[32m━━━━━━━━━━━━━━━━━━━\u001b[0m\u001b[37m━\u001b[0m \u001b[1m0s\u001b[0m 7ms/step - accuracy: 0.1495 - loss: 0.0467\n",
      "Epoch 76: val_loss improved from 0.04191 to 0.04188, saving model to best_model.weights.h5\n",
      "\u001b[1m1692/1692\u001b[0m \u001b[32m━━━━━━━━━━━━━━━━━━━━\u001b[0m\u001b[37m\u001b[0m \u001b[1m14s\u001b[0m 8ms/step - accuracy: 0.1495 - loss: 0.0467 - val_accuracy: 0.1479 - val_loss: 0.0419\n",
      "Epoch 77/100\n",
      "\u001b[1m1692/1692\u001b[0m \u001b[32m━━━━━━━━━━━━━━━━━━━━\u001b[0m\u001b[37m\u001b[0m \u001b[1m0s\u001b[0m 7ms/step - accuracy: 0.1483 - loss: 0.0466\n",
      "Epoch 77: val_loss did not improve from 0.04188\n",
      "\u001b[1m1692/1692\u001b[0m \u001b[32m━━━━━━━━━━━━━━━━━━━━\u001b[0m\u001b[37m\u001b[0m \u001b[1m14s\u001b[0m 8ms/step - accuracy: 0.1483 - loss: 0.0466 - val_accuracy: 0.1287 - val_loss: 0.0419\n",
      "Epoch 78/100\n",
      "\u001b[1m1692/1692\u001b[0m \u001b[32m━━━━━━━━━━━━━━━━━━━━\u001b[0m\u001b[37m\u001b[0m \u001b[1m0s\u001b[0m 7ms/step - accuracy: 0.1432 - loss: 0.0465\n",
      "Epoch 78: val_loss improved from 0.04188 to 0.04188, saving model to best_model.weights.h5\n",
      "\u001b[1m1692/1692\u001b[0m \u001b[32m━━━━━━━━━━━━━━━━━━━━\u001b[0m\u001b[37m\u001b[0m \u001b[1m13s\u001b[0m 8ms/step - accuracy: 0.1432 - loss: 0.0465 - val_accuracy: 0.1361 - val_loss: 0.0419\n",
      "Epoch 79/100\n",
      "\u001b[1m1689/1692\u001b[0m \u001b[32m━━━━━━━━━━━━━━━━━━━\u001b[0m\u001b[37m━\u001b[0m \u001b[1m0s\u001b[0m 7ms/step - accuracy: 0.1495 - loss: 0.0467\n",
      "Epoch 79: val_loss improved from 0.04188 to 0.04187, saving model to best_model.weights.h5\n",
      "\u001b[1m1692/1692\u001b[0m \u001b[32m━━━━━━━━━━━━━━━━━━━━\u001b[0m\u001b[37m\u001b[0m \u001b[1m14s\u001b[0m 8ms/step - accuracy: 0.1495 - loss: 0.0467 - val_accuracy: 0.1403 - val_loss: 0.0419\n",
      "Epoch 80/100\n",
      "\u001b[1m1688/1692\u001b[0m \u001b[32m━━━━━━━━━━━━━━━━━━━\u001b[0m\u001b[37m━\u001b[0m \u001b[1m0s\u001b[0m 7ms/step - accuracy: 0.1444 - loss: 0.0464\n",
      "Epoch 80: val_loss improved from 0.04187 to 0.04186, saving model to best_model.weights.h5\n",
      "\u001b[1m1692/1692\u001b[0m \u001b[32m━━━━━━━━━━━━━━━━━━━━\u001b[0m\u001b[37m\u001b[0m \u001b[1m13s\u001b[0m 8ms/step - accuracy: 0.1444 - loss: 0.0464 - val_accuracy: 0.1442 - val_loss: 0.0419\n",
      "Epoch 81/100\n",
      "\u001b[1m1689/1692\u001b[0m \u001b[32m━━━━━━━━━━━━━━━━━━━\u001b[0m\u001b[37m━\u001b[0m \u001b[1m0s\u001b[0m 7ms/step - accuracy: 0.1443 - loss: 0.0466\n",
      "Epoch 81: val_loss improved from 0.04186 to 0.04186, saving model to best_model.weights.h5\n",
      "\u001b[1m1692/1692\u001b[0m \u001b[32m━━━━━━━━━━━━━━━━━━━━\u001b[0m\u001b[37m\u001b[0m \u001b[1m14s\u001b[0m 8ms/step - accuracy: 0.1443 - loss: 0.0466 - val_accuracy: 0.1409 - val_loss: 0.0419\n",
      "Epoch 82/100\n",
      "\u001b[1m1686/1692\u001b[0m \u001b[32m━━━━━━━━━━━━━━━━━━━\u001b[0m\u001b[37m━\u001b[0m \u001b[1m0s\u001b[0m 7ms/step - accuracy: 0.1475 - loss: 0.0464\n",
      "Epoch 82: val_loss improved from 0.04186 to 0.04183, saving model to best_model.weights.h5\n",
      "\u001b[1m1692/1692\u001b[0m \u001b[32m━━━━━━━━━━━━━━━━━━━━\u001b[0m\u001b[37m\u001b[0m \u001b[1m13s\u001b[0m 8ms/step - accuracy: 0.1475 - loss: 0.0464 - val_accuracy: 0.1307 - val_loss: 0.0418\n",
      "Epoch 83/100\n",
      "\u001b[1m1685/1692\u001b[0m \u001b[32m━━━━━━━━━━━━━━━━━━━\u001b[0m\u001b[37m━\u001b[0m \u001b[1m0s\u001b[0m 7ms/step - accuracy: 0.1397 - loss: 0.0464\n",
      "Epoch 83: val_loss improved from 0.04183 to 0.04183, saving model to best_model.weights.h5\n",
      "\u001b[1m1692/1692\u001b[0m \u001b[32m━━━━━━━━━━━━━━━━━━━━\u001b[0m\u001b[37m\u001b[0m \u001b[1m14s\u001b[0m 8ms/step - accuracy: 0.1397 - loss: 0.0464 - val_accuracy: 0.1442 - val_loss: 0.0418\n",
      "Epoch 84/100\n",
      "\u001b[1m1692/1692\u001b[0m \u001b[32m━━━━━━━━━━━━━━━━━━━━\u001b[0m\u001b[37m\u001b[0m \u001b[1m0s\u001b[0m 7ms/step - accuracy: 0.1500 - loss: 0.0465\n",
      "Epoch 84: val_loss improved from 0.04183 to 0.04179, saving model to best_model.weights.h5\n",
      "\u001b[1m1692/1692\u001b[0m \u001b[32m━━━━━━━━━━━━━━━━━━━━\u001b[0m\u001b[37m\u001b[0m \u001b[1m14s\u001b[0m 8ms/step - accuracy: 0.1500 - loss: 0.0465 - val_accuracy: 0.1236 - val_loss: 0.0418\n",
      "Epoch 85/100\n",
      "\u001b[1m1691/1692\u001b[0m \u001b[32m━━━━━━━━━━━━━━━━━━━\u001b[0m\u001b[37m━\u001b[0m \u001b[1m0s\u001b[0m 7ms/step - accuracy: 0.1381 - loss: 0.0464\n",
      "Epoch 85: val_loss did not improve from 0.04179\n",
      "\u001b[1m1692/1692\u001b[0m \u001b[32m━━━━━━━━━━━━━━━━━━━━\u001b[0m\u001b[37m\u001b[0m \u001b[1m14s\u001b[0m 8ms/step - accuracy: 0.1381 - loss: 0.0464 - val_accuracy: 0.1378 - val_loss: 0.0418\n",
      "Epoch 86/100\n",
      "\u001b[1m1690/1692\u001b[0m \u001b[32m━━━━━━━━━━━━━━━━━━━\u001b[0m\u001b[37m━\u001b[0m \u001b[1m0s\u001b[0m 7ms/step - accuracy: 0.1429 - loss: 0.0464\n",
      "Epoch 86: val_loss did not improve from 0.04179\n",
      "\u001b[1m1692/1692\u001b[0m \u001b[32m━━━━━━━━━━━━━━━━━━━━\u001b[0m\u001b[37m\u001b[0m \u001b[1m14s\u001b[0m 8ms/step - accuracy: 0.1429 - loss: 0.0464 - val_accuracy: 0.1401 - val_loss: 0.0418\n",
      "Epoch 87/100\n",
      "\u001b[1m1686/1692\u001b[0m \u001b[32m━━━━━━━━━━━━━━━━━━━\u001b[0m\u001b[37m━\u001b[0m \u001b[1m0s\u001b[0m 7ms/step - accuracy: 0.1496 - loss: 0.0462\n",
      "Epoch 87: val_loss improved from 0.04179 to 0.04177, saving model to best_model.weights.h5\n",
      "\u001b[1m1692/1692\u001b[0m \u001b[32m━━━━━━━━━━━━━━━━━━━━\u001b[0m\u001b[37m\u001b[0m \u001b[1m14s\u001b[0m 8ms/step - accuracy: 0.1495 - loss: 0.0462 - val_accuracy: 0.1303 - val_loss: 0.0418\n",
      "Epoch 88/100\n",
      "\u001b[1m1690/1692\u001b[0m \u001b[32m━━━━━━━━━━━━━━━━━━━\u001b[0m\u001b[37m━\u001b[0m \u001b[1m0s\u001b[0m 8ms/step - accuracy: 0.1360 - loss: 0.0464\n",
      "Epoch 88: val_loss did not improve from 0.04177\n",
      "\u001b[1m1692/1692\u001b[0m \u001b[32m━━━━━━━━━━━━━━━━━━━━\u001b[0m\u001b[37m\u001b[0m \u001b[1m14s\u001b[0m 9ms/step - accuracy: 0.1360 - loss: 0.0464 - val_accuracy: 0.1449 - val_loss: 0.0418\n",
      "Epoch 89/100\n",
      "\u001b[1m1691/1692\u001b[0m \u001b[32m━━━━━━━━━━━━━━━━━━━\u001b[0m\u001b[37m━\u001b[0m \u001b[1m0s\u001b[0m 7ms/step - accuracy: 0.1436 - loss: 0.0465\n",
      "Epoch 89: val_loss improved from 0.04177 to 0.04176, saving model to best_model.weights.h5\n",
      "\u001b[1m1692/1692\u001b[0m \u001b[32m━━━━━━━━━━━━━━━━━━━━\u001b[0m\u001b[37m\u001b[0m \u001b[1m14s\u001b[0m 8ms/step - accuracy: 0.1436 - loss: 0.0465 - val_accuracy: 0.1360 - val_loss: 0.0418\n",
      "Epoch 90/100\n",
      "\u001b[1m1692/1692\u001b[0m \u001b[32m━━━━━━━━━━━━━━━━━━━━\u001b[0m\u001b[37m\u001b[0m \u001b[1m0s\u001b[0m 8ms/step - accuracy: 0.1507 - loss: 0.0462\n",
      "Epoch 90: val_loss did not improve from 0.04176\n",
      "\u001b[1m1692/1692\u001b[0m \u001b[32m━━━━━━━━━━━━━━━━━━━━\u001b[0m\u001b[37m\u001b[0m \u001b[1m14s\u001b[0m 9ms/step - accuracy: 0.1507 - loss: 0.0462 - val_accuracy: 0.1323 - val_loss: 0.0418\n",
      "Epoch 91/100\n",
      "\u001b[1m1691/1692\u001b[0m \u001b[32m━━━━━━━━━━━━━━━━━━━\u001b[0m\u001b[37m━\u001b[0m \u001b[1m0s\u001b[0m 7ms/step - accuracy: 0.1417 - loss: 0.0463\n",
      "Epoch 91: val_loss improved from 0.04176 to 0.04173, saving model to best_model.weights.h5\n",
      "\u001b[1m1692/1692\u001b[0m \u001b[32m━━━━━━━━━━━━━━━━━━━━\u001b[0m\u001b[37m\u001b[0m \u001b[1m14s\u001b[0m 8ms/step - accuracy: 0.1417 - loss: 0.0463 - val_accuracy: 0.1447 - val_loss: 0.0417\n",
      "Epoch 92/100\n",
      "\u001b[1m1688/1692\u001b[0m \u001b[32m━━━━━━━━━━━━━━━━━━━\u001b[0m\u001b[37m━\u001b[0m \u001b[1m0s\u001b[0m 7ms/step - accuracy: 0.1442 - loss: 0.0463\n",
      "Epoch 92: val_loss improved from 0.04173 to 0.04172, saving model to best_model.weights.h5\n",
      "\u001b[1m1692/1692\u001b[0m \u001b[32m━━━━━━━━━━━━━━━━━━━━\u001b[0m\u001b[37m\u001b[0m \u001b[1m14s\u001b[0m 8ms/step - accuracy: 0.1442 - loss: 0.0463 - val_accuracy: 0.1378 - val_loss: 0.0417\n",
      "Epoch 93/100\n",
      "\u001b[1m1691/1692\u001b[0m \u001b[32m━━━━━━━━━━━━━━━━━━━\u001b[0m\u001b[37m━\u001b[0m \u001b[1m0s\u001b[0m 7ms/step - accuracy: 0.1474 - loss: 0.0462\n",
      "Epoch 93: val_loss improved from 0.04172 to 0.04169, saving model to best_model.weights.h5\n",
      "\u001b[1m1692/1692\u001b[0m \u001b[32m━━━━━━━━━━━━━━━━━━━━\u001b[0m\u001b[37m\u001b[0m \u001b[1m14s\u001b[0m 8ms/step - accuracy: 0.1474 - loss: 0.0462 - val_accuracy: 0.1419 - val_loss: 0.0417\n",
      "Epoch 94/100\n",
      "\u001b[1m1690/1692\u001b[0m \u001b[32m━━━━━━━━━━━━━━━━━━━\u001b[0m\u001b[37m━\u001b[0m \u001b[1m0s\u001b[0m 7ms/step - accuracy: 0.1474 - loss: 0.0463\n",
      "Epoch 94: val_loss did not improve from 0.04169\n",
      "\u001b[1m1692/1692\u001b[0m \u001b[32m━━━━━━━━━━━━━━━━━━━━\u001b[0m\u001b[37m\u001b[0m \u001b[1m14s\u001b[0m 8ms/step - accuracy: 0.1474 - loss: 0.0463 - val_accuracy: 0.1328 - val_loss: 0.0417\n",
      "Epoch 95/100\n",
      "\u001b[1m1686/1692\u001b[0m \u001b[32m━━━━━━━━━━━━━━━━━━━\u001b[0m\u001b[37m━\u001b[0m \u001b[1m0s\u001b[0m 7ms/step - accuracy: 0.1462 - loss: 0.0465\n",
      "Epoch 95: val_loss did not improve from 0.04169\n",
      "\u001b[1m1692/1692\u001b[0m \u001b[32m━━━━━━━━━━━━━━━━━━━━\u001b[0m\u001b[37m\u001b[0m \u001b[1m14s\u001b[0m 8ms/step - accuracy: 0.1462 - loss: 0.0465 - val_accuracy: 0.1476 - val_loss: 0.0417\n",
      "Epoch 96/100\n",
      "\u001b[1m1687/1692\u001b[0m \u001b[32m━━━━━━━━━━━━━━━━━━━\u001b[0m\u001b[37m━\u001b[0m \u001b[1m0s\u001b[0m 7ms/step - accuracy: 0.1419 - loss: 0.0464\n",
      "Epoch 96: val_loss improved from 0.04169 to 0.04166, saving model to best_model.weights.h5\n",
      "\u001b[1m1692/1692\u001b[0m \u001b[32m━━━━━━━━━━━━━━━━━━━━\u001b[0m\u001b[37m\u001b[0m \u001b[1m13s\u001b[0m 8ms/step - accuracy: 0.1419 - loss: 0.0464 - val_accuracy: 0.1435 - val_loss: 0.0417\n",
      "Epoch 97/100\n",
      "\u001b[1m1691/1692\u001b[0m \u001b[32m━━━━━━━━━━━━━━━━━━━\u001b[0m\u001b[37m━\u001b[0m \u001b[1m0s\u001b[0m 7ms/step - accuracy: 0.1436 - loss: 0.0462\n",
      "Epoch 97: val_loss improved from 0.04166 to 0.04162, saving model to best_model.weights.h5\n",
      "\u001b[1m1692/1692\u001b[0m \u001b[32m━━━━━━━━━━━━━━━━━━━━\u001b[0m\u001b[37m\u001b[0m \u001b[1m14s\u001b[0m 8ms/step - accuracy: 0.1436 - loss: 0.0462 - val_accuracy: 0.1528 - val_loss: 0.0416\n",
      "Epoch 98/100\n",
      "\u001b[1m1690/1692\u001b[0m \u001b[32m━━━━━━━━━━━━━━━━━━━\u001b[0m\u001b[37m━\u001b[0m \u001b[1m0s\u001b[0m 7ms/step - accuracy: 0.1501 - loss: 0.0463\n",
      "Epoch 98: val_loss did not improve from 0.04162\n",
      "\u001b[1m1692/1692\u001b[0m \u001b[32m━━━━━━━━━━━━━━━━━━━━\u001b[0m\u001b[37m\u001b[0m \u001b[1m13s\u001b[0m 8ms/step - accuracy: 0.1501 - loss: 0.0463 - val_accuracy: 0.1381 - val_loss: 0.0416\n",
      "Epoch 99/100\n",
      "\u001b[1m1687/1692\u001b[0m \u001b[32m━━━━━━━━━━━━━━━━━━━\u001b[0m\u001b[37m━\u001b[0m \u001b[1m0s\u001b[0m 7ms/step - accuracy: 0.1548 - loss: 0.0461\n",
      "Epoch 99: val_loss improved from 0.04162 to 0.04161, saving model to best_model.weights.h5\n",
      "\u001b[1m1692/1692\u001b[0m \u001b[32m━━━━━━━━━━━━━━━━━━━━\u001b[0m\u001b[37m\u001b[0m \u001b[1m14s\u001b[0m 8ms/step - accuracy: 0.1548 - loss: 0.0461 - val_accuracy: 0.1295 - val_loss: 0.0416\n",
      "Epoch 100/100\n",
      "\u001b[1m1686/1692\u001b[0m \u001b[32m━━━━━━━━━━━━━━━━━━━\u001b[0m\u001b[37m━\u001b[0m \u001b[1m0s\u001b[0m 7ms/step - accuracy: 0.1406 - loss: 0.0462\n",
      "Epoch 100: val_loss improved from 0.04161 to 0.04160, saving model to best_model.weights.h5\n",
      "\u001b[1m1692/1692\u001b[0m \u001b[32m━━━━━━━━━━━━━━━━━━━━\u001b[0m\u001b[37m\u001b[0m \u001b[1m14s\u001b[0m 8ms/step - accuracy: 0.1406 - loss: 0.0462 - val_accuracy: 0.1466 - val_loss: 0.0416\n"
     ]
    }
   ],
   "source": [
    "history = model.fit(\n",
    "    X_train, Y_train,\n",
    "    class_weight=class_weight,\n",
    "    epochs=100,\n",
    "    batch_size=64,\n",
    "    validation_data=(X_cv, Y_cv),\n",
    "    callbacks=[checkpoint]  # You can add ModelCheckpoint or EarlyStopping if needed\n",
    ")"
   ]
  },
  {
   "cell_type": "code",
   "execution_count": 23,
   "id": "757358db",
   "metadata": {
    "execution": {
     "iopub.execute_input": "2025-04-17T21:52:55.794392Z",
     "iopub.status.busy": "2025-04-17T21:52:55.794066Z",
     "iopub.status.idle": "2025-04-17T21:52:56.176041Z",
     "shell.execute_reply": "2025-04-17T21:52:56.175287Z"
    },
    "papermill": {
     "duration": 1.419822,
     "end_time": "2025-04-17T21:52:56.177220",
     "exception": false,
     "start_time": "2025-04-17T21:52:54.757398",
     "status": "completed"
    },
    "tags": []
   },
   "outputs": [
    {
     "data": {
      "text/plain": [
       "[<matplotlib.lines.Line2D at 0x7af2f5c120d0>]"
      ]
     },
     "execution_count": 23,
     "metadata": {},
     "output_type": "execute_result"
    },
    {
     "data": {
      "image/png": "[encoded data removed]",
      "text/plain": [
       "<Figure size 640x480 with 1 Axes>"
      ]
     },
     "metadata": {},
     "output_type": "display_data"
    }
   ],
   "source": [
    "plt.plot(history.history['val_accuracy'])"
   ]
  },
  {
   "cell_type": "code",
   "execution_count": 24,
   "id": "029ca6e2",
   "metadata": {
    "execution": {
     "iopub.execute_input": "2025-04-17T21:52:58.263476Z",
     "iopub.status.busy": "2025-04-17T21:52:58.263149Z",
     "iopub.status.idle": "2025-04-17T21:53:16.648226Z",
     "shell.execute_reply": "2025-04-17T21:53:16.647383Z"
    },
    "papermill": {
     "duration": 19.431236,
     "end_time": "2025-04-17T21:53:16.649340",
     "exception": false,
     "start_time": "2025-04-17T21:52:57.218104",
     "status": "completed"
    },
    "tags": []
   },
   "outputs": [
    {
     "name": "stderr",
     "output_type": "stream",
     "text": [
      "/usr/local/lib/python3.11/dist-packages/keras/src/saving/saving_lib.py:713: UserWarning: Skipping variable loading for optimizer 'adam', because it has 2 variables whereas the saved optimizer has 22 variables. \n",
      "  saveable.load_own_variables(weights_store.get(inner_path))\n"
     ]
    },
    {
     "name": "stdout",
     "output_type": "stream",
     "text": [
      "\u001b[1m1128/1128\u001b[0m \u001b[32m━━━━━━━━━━━━━━━━━━━━\u001b[0m\u001b[37m\u001b[0m \u001b[1m3s\u001b[0m 2ms/step\n",
      "\u001b[1m3383/3383\u001b[0m \u001b[32m━━━━━━━━━━━━━━━━━━━━\u001b[0m\u001b[37m\u001b[0m \u001b[1m7s\u001b[0m 2ms/step\n",
      "\u001b[1m1128/1128\u001b[0m \u001b[32m━━━━━━━━━━━━━━━━━━━━\u001b[0m\u001b[37m\u001b[0m \u001b[1m3s\u001b[0m 2ms/step\n",
      "Training Data:\n",
      "Accuracy is  0.14414389446261294\n",
      "Precision is  0.867942830810005\n",
      "Recall is  0.043430748995048264\n",
      "F1 Score is  0.0826923071838493\n",
      "Validation Data:\n",
      "Accuracy is  0.14059641926722466\n",
      "Precision is  0.855365197427394\n",
      "Recall is  0.04706226023755923\n",
      "F1 Score is  0.08916737513053365\n",
      "Test Data:\n",
      "Accuracy is  0.1424216389989746\n",
      "Precision is  0.86082877217237\n",
      "Recall is  0.04350864596832844\n",
      "F1 Score is  0.0827895045269323\n"
     ]
    }
   ],
   "source": [
    "model_best = clone_model(model)\n",
    "\n",
    "# Important: you need to compile it again\n",
    "model_best.compile(optimizer='adam', loss='binary_crossentropy', metrics=['accuracy'])\n",
    "# Load the best saved weights\n",
    "model_best.load_weights('best_model.weights.h5')\n",
    "pred_val=model_best.predict(X_cv)\n",
    "pred_val_bin= (pred_val > 0.5).astype(int)\n",
    "pred_train=model_best.predict(X_train)\n",
    "pred_train_bin= (pred_train> 0.5).astype(int)\n",
    "pred_test=model_best.predict(X_test)\n",
    "pred_test_bin= (pred_test> 0.5).astype(int)\n",
    "print(\"Training Data:\")\n",
    "\n",
    "print(\"Accuracy is \",accuracy_score(Y_train,pred_train_bin))\n",
    "print(\"Precision is \",precision_score(Y_train,pred_train_bin,average='macro'))\n",
    "print(\"Recall is \",recall_score(Y_train,pred_train_bin,average='macro'))\n",
    "print(\"F1 Score is \",f1_score(Y_train,pred_train_bin,average='macro'))\n",
    "\n",
    "print(\"Validation Data:\")\n",
    "\n",
    "print(\"Accuracy is \",accuracy_score(Y_cv,pred_val_bin))\n",
    "print(\"Precision is \",precision_score(Y_cv,pred_val_bin,average='macro'))\n",
    "print(\"Recall is \",recall_score(Y_cv,pred_val_bin,average='macro'))\n",
    "print(\"F1 Score is \",f1_score(Y_cv,pred_val_bin,average='macro'))\n",
    "\n",
    "print(\"Test Data:\")\n",
    "\n",
    "print(\"Accuracy is \",accuracy_score(Y_test,pred_test_bin))\n",
    "print(\"Precision is \",precision_score(Y_test,pred_test_bin,average='macro'))\n",
    "print(\"Recall is \",recall_score(Y_test,pred_test_bin,average='macro'))\n",
    "print(\"F1 Score is \",f1_score(Y_test,pred_test_bin,average='macro'))"
   ]
  },
  {
   "cell_type": "code",
   "execution_count": null,
   "id": "0bef9ec3",
   "metadata": {
    "papermill": {
     "duration": 1.02679,
     "end_time": "2025-04-17T21:53:18.666932",
     "exception": false,
     "start_time": "2025-04-17T21:53:17.640142",
     "status": "completed"
    },
    "tags": []
   },
   "outputs": [],
   "source": []
  }
 ],
 "metadata": {
  "kaggle": {
   "accelerator": "nvidiaTeslaT4",
   "dataSources": [
    {
     "datasetId": 7141798,
     "sourceId": 11402349,
     "sourceType": "datasetVersion"
    },
    {
     "datasetId": 7154869,
     "sourceId": 11424360,
     "sourceType": "datasetVersion"
    }
   ],
   "dockerImageVersionId": 31012,
   "isGpuEnabled": true,
   "isInternetEnabled": true,
   "language": "python",
   "sourceType": "notebook"
  },
  "kernelspec": {
   "display_name": "Python 3",
   "language": "python",
   "name": "python3"
  },
  "language_info": {
   "codemirror_mode": {
    "name": "ipython",
    "version": 3
   },
   "file_extension": ".py",
   "mimetype": "text/x-python",
   "name": "python",
   "nbconvert_exporter": "python",
   "pygments_lexer": "ipython3",
   "version": "3.11.11"
  },
  "papermill": {
   "default_parameters": {},
   "duration": 1448.283533,
   "end_time": "2025-04-17T21:53:22.749718",
   "environment_variables": {},
   "exception": null,
   "input_path": "__notebook__.ipynb",
   "output_path": "__notebook__.ipynb",
   "parameters": {},
   "start_time": "2025-04-17T21:29:14.466185",
   "version": "2.6.0"
  }
 },
 "nbformat": 4,
 "nbformat_minor": 5
}
