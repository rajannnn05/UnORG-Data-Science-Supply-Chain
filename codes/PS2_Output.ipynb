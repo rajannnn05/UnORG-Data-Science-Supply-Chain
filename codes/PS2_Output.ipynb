{
 "cells": [
  {
   "cell_type": "code",
   "execution_count": 1,
   "id": "26c2b99d",
   "metadata": {
    "_cell_guid": "b1076dfc-b9ad-4769-8c92-a6c4dae69d19",
    "_uuid": "8f2839f25d086af736a60e9eeb907d3b93b6e0e5",
    "execution": {
     "iopub.execute_input": "2025-04-17T22:50:24.206865Z",
     "iopub.status.busy": "2025-04-17T22:50:24.206431Z",
     "iopub.status.idle": "2025-04-17T22:50:26.475328Z",
     "shell.execute_reply": "2025-04-17T22:50:26.474180Z"
    },
    "papermill": {
     "duration": 2.278153,
     "end_time": "2025-04-17T22:50:26.478518",
     "exception": false,
     "start_time": "2025-04-17T22:50:24.200365",
     "status": "completed"
    },
    "tags": []
   },
   "outputs": [
    {
     "name": "stdout",
     "output_type": "stream",
     "text": [
      "/kaggle/input/forecast-datframe/forecast_complete_data.csv\n",
      "/kaggle/input/items-orders/Orders data.xlsx\n",
      "/kaggle/input/items-orders/Associated_Item_data.csv\n"
     ]
    }
   ],
   "source": [
    "# This Python 3 environment comes with many helpful analytics libraries installed\n",
    "# It is defined by the kaggle/python Docker image: https://github.com/kaggle/docker-python\n",
    "# For example, here's several helpful packages to load\n",
    "\n",
    "import numpy as np # linear algebra\n",
    "import pandas as pd # data processing, CSV file I/O (e.g. pd.read_csv)\n",
    "\n",
    "# Input data files are available in the read-only \"../input/\" directory\n",
    "# For example, running this (by clicking run or pressing Shift+Enter) will list all files under the input directory\n",
    "\n",
    "import os\n",
    "for dirname, _, filenames in os.walk('/kaggle/input'):\n",
    "    for filename in filenames:\n",
    "        print(os.path.join(dirname, filename))\n",
    "\n",
    "# You can write up to 20GB to the current directory (/kaggle/working/) that gets preserved as output when you create a version using \"Save & Run All\" \n",
    "# You can also write temporary files to /kaggle/temp/, but they won't be saved outside of the current session"
   ]
  },
  {
   "cell_type": "code",
   "execution_count": 2,
   "id": "c91c3811",
   "metadata": {
    "execution": {
     "iopub.execute_input": "2025-04-17T22:50:26.489257Z",
     "iopub.status.busy": "2025-04-17T22:50:26.488732Z",
     "iopub.status.idle": "2025-04-17T22:51:34.225234Z",
     "shell.execute_reply": "2025-04-17T22:51:34.223950Z"
    },
    "papermill": {
     "duration": 67.744279,
     "end_time": "2025-04-17T22:51:34.227658",
     "exception": false,
     "start_time": "2025-04-17T22:50:26.483379",
     "status": "completed"
    },
    "tags": []
   },
   "outputs": [],
   "source": [
    "result = pd.read_csv(r'/kaggle/input/forecast-datframe/forecast_complete_data.csv')"
   ]
  },
  {
   "cell_type": "code",
   "execution_count": 3,
   "id": "19c95008",
   "metadata": {
    "execution": {
     "iopub.execute_input": "2025-04-17T22:51:34.238887Z",
     "iopub.status.busy": "2025-04-17T22:51:34.238540Z",
     "iopub.status.idle": "2025-04-17T22:51:34.255416Z",
     "shell.execute_reply": "2025-04-17T22:51:34.254404Z"
    },
    "papermill": {
     "duration": 0.024313,
     "end_time": "2025-04-17T22:51:34.257245",
     "exception": false,
     "start_time": "2025-04-17T22:51:34.232932",
     "status": "completed"
    },
    "tags": []
   },
   "outputs": [],
   "source": [
    "# Define forecast horizon (14 days after April 10th)\n",
    "forecast_start_date = pd.to_datetime('2025-04-11')\n",
    "forecast_end_date = pd.to_datetime('2025-04-24')\n",
    "future_dates = pd.date_range(start=forecast_start_date, end=forecast_end_date, freq='D')"
   ]
  },
  {
   "cell_type": "code",
   "execution_count": 4,
   "id": "23b57016",
   "metadata": {
    "execution": {
     "iopub.execute_input": "2025-04-17T22:51:34.268198Z",
     "iopub.status.busy": "2025-04-17T22:51:34.267857Z",
     "iopub.status.idle": "2025-04-17T22:51:35.085403Z",
     "shell.execute_reply": "2025-04-17T22:51:35.084257Z"
    },
    "papermill": {
     "duration": 0.8253,
     "end_time": "2025-04-17T22:51:35.087404",
     "exception": false,
     "start_time": "2025-04-17T22:51:34.262104",
     "status": "completed"
    },
    "tags": []
   },
   "outputs": [],
   "source": [
    "customer_items = result[['customer_id', 'order_item_id']].drop_duplicates()"
   ]
  },
  {
   "cell_type": "code",
   "execution_count": 5,
   "id": "5290923b",
   "metadata": {
    "execution": {
     "iopub.execute_input": "2025-04-17T22:51:35.098066Z",
     "iopub.status.busy": "2025-04-17T22:51:35.097679Z",
     "iopub.status.idle": "2025-04-17T22:51:35.118789Z",
     "shell.execute_reply": "2025-04-17T22:51:35.117551Z"
    },
    "papermill": {
     "duration": 0.028809,
     "end_time": "2025-04-17T22:51:35.120885",
     "exception": false,
     "start_time": "2025-04-17T22:51:35.092076",
     "status": "completed"
    },
    "tags": []
   },
   "outputs": [],
   "source": [
    "# Repeat customer-items for each future date\n",
    "customer_repeated = np.repeat(customer_items['customer_id'].values, len(future_dates))\n",
    "item_repeated = np.repeat(customer_items['order_item_id'].values, len(future_dates))\n",
    "\n",
    "# Tile future_dates for each customer-item\n",
    "dates_tiled = np.tile(future_dates, len(customer_items))\n",
    "\n",
    "# Create directly from numpy arrays\n",
    "future_df = pd.DataFrame({\n",
    "    'customer_id': customer_repeated,\n",
    "    'order_item_id': item_repeated,\n",
    "    'order_date': dates_tiled\n",
    "})"
   ]
  },
  {
   "cell_type": "code",
   "execution_count": 6,
   "id": "2a7d669f",
   "metadata": {
    "execution": {
     "iopub.execute_input": "2025-04-17T22:51:35.131451Z",
     "iopub.status.busy": "2025-04-17T22:51:35.131136Z",
     "iopub.status.idle": "2025-04-17T22:51:35.210354Z",
     "shell.execute_reply": "2025-04-17T22:51:35.209024Z"
    },
    "papermill": {
     "duration": 0.086774,
     "end_time": "2025-04-17T22:51:35.212245",
     "exception": false,
     "start_time": "2025-04-17T22:51:35.125471",
     "status": "completed"
    },
    "tags": []
   },
   "outputs": [],
   "source": [
    "future_df['is_weekend'] = future_df['order_date'].dt.dayofweek.isin([5, 6]).astype(int)"
   ]
  },
  {
   "cell_type": "code",
   "execution_count": 7,
   "id": "aac64cef",
   "metadata": {
    "execution": {
     "iopub.execute_input": "2025-04-17T22:51:35.222566Z",
     "iopub.status.busy": "2025-04-17T22:51:35.222256Z",
     "iopub.status.idle": "2025-04-17T22:51:35.705575Z",
     "shell.execute_reply": "2025-04-17T22:51:35.704464Z"
    },
    "papermill": {
     "duration": 0.490691,
     "end_time": "2025-04-17T22:51:35.707457",
     "exception": false,
     "start_time": "2025-04-17T22:51:35.216766",
     "status": "completed"
    },
    "tags": []
   },
   "outputs": [],
   "source": [
    "for day in range(7):\n",
    "    future_df[day] = (future_df['order_date'].dt.dayofweek == day).astype(int)"
   ]
  },
  {
   "cell_type": "code",
   "execution_count": 8,
   "id": "5d5a6776",
   "metadata": {
    "execution": {
     "iopub.execute_input": "2025-04-17T22:51:35.718550Z",
     "iopub.status.busy": "2025-04-17T22:51:35.718198Z",
     "iopub.status.idle": "2025-04-17T22:51:36.422285Z",
     "shell.execute_reply": "2025-04-17T22:51:36.421088Z"
    },
    "papermill": {
     "duration": 0.711587,
     "end_time": "2025-04-17T22:51:36.424195",
     "exception": false,
     "start_time": "2025-04-17T22:51:35.712608",
     "status": "completed"
    },
    "tags": []
   },
   "outputs": [],
   "source": [
    "import holidays\n",
    "\n",
    "india_holidays = holidays.India()\n",
    "\n",
    "# Convert holiday dates to a set for O(1) lookup\n",
    "holiday_dates = set(india_holidays)\n",
    "\n",
    "# Vectorized check\n",
    "future_df['holiday'] = future_df['order_date'].isin(holiday_dates).astype(int)"
   ]
  },
  {
   "cell_type": "code",
   "execution_count": 9,
   "id": "48b7153a",
   "metadata": {
    "execution": {
     "iopub.execute_input": "2025-04-17T22:51:36.434806Z",
     "iopub.status.busy": "2025-04-17T22:51:36.434456Z",
     "iopub.status.idle": "2025-04-17T22:51:44.405518Z",
     "shell.execute_reply": "2025-04-17T22:51:44.403171Z"
    },
    "papermill": {
     "duration": 7.982378,
     "end_time": "2025-04-17T22:51:44.411350",
     "exception": false,
     "start_time": "2025-04-17T22:51:36.428972",
     "status": "completed"
    },
    "tags": []
   },
   "outputs": [],
   "source": [
    "X_train = result[result['order_date'] < '2025-03-01'].iloc[:,5:]\n",
    "X_test = result[result['order_date'] >= '2025-03-01'].iloc[:,5:]"
   ]
  },
  {
   "cell_type": "code",
   "execution_count": 10,
   "id": "76ce58a5",
   "metadata": {
    "execution": {
     "iopub.execute_input": "2025-04-17T22:51:44.427924Z",
     "iopub.status.busy": "2025-04-17T22:51:44.427457Z",
     "iopub.status.idle": "2025-04-17T22:51:52.492928Z",
     "shell.execute_reply": "2025-04-17T22:51:52.491693Z"
    },
    "papermill": {
     "duration": 8.074885,
     "end_time": "2025-04-17T22:51:52.495363",
     "exception": false,
     "start_time": "2025-04-17T22:51:44.420478",
     "status": "completed"
    },
    "tags": []
   },
   "outputs": [],
   "source": [
    "y_train = result[result['order_date'] < '2025-03-01'].iloc[:,4]"
   ]
  },
  {
   "cell_type": "code",
   "execution_count": 11,
   "id": "c000162a",
   "metadata": {
    "execution": {
     "iopub.execute_input": "2025-04-17T22:51:52.516502Z",
     "iopub.status.busy": "2025-04-17T22:51:52.516154Z",
     "iopub.status.idle": "2025-04-17T22:52:01.209300Z",
     "shell.execute_reply": "2025-04-17T22:52:01.208209Z"
    },
    "papermill": {
     "duration": 8.706297,
     "end_time": "2025-04-17T22:52:01.211318",
     "exception": false,
     "start_time": "2025-04-17T22:51:52.505021",
     "status": "completed"
    },
    "tags": []
   },
   "outputs": [],
   "source": [
    "# For gradient boosting approach\n",
    "from lightgbm import LGBMRegressor\n",
    "from sklearn.metrics import mean_absolute_error, mean_squared_error, r2_score"
   ]
  },
  {
   "cell_type": "code",
   "execution_count": 12,
   "id": "63ef3f45",
   "metadata": {
    "execution": {
     "iopub.execute_input": "2025-04-17T22:52:01.221659Z",
     "iopub.status.busy": "2025-04-17T22:52:01.220311Z",
     "iopub.status.idle": "2025-04-17T22:52:38.285204Z",
     "shell.execute_reply": "2025-04-17T22:52:38.284154Z"
    },
    "papermill": {
     "duration": 37.076036,
     "end_time": "2025-04-17T22:52:38.291320",
     "exception": false,
     "start_time": "2025-04-17T22:52:01.215284",
     "status": "completed"
    },
    "tags": []
   },
   "outputs": [
    {
     "name": "stdout",
     "output_type": "stream",
     "text": [
      "[LightGBM] [Info] Auto-choosing row-wise multi-threading, the overhead of testing was 0.941116 seconds.\n",
      "You can set `force_row_wise=true` to remove the overhead.\n",
      "And if memory is not enough, you can set `force_col_wise=true`.\n",
      "[LightGBM] [Info] Total Bins 740\n",
      "[LightGBM] [Info] Number of data points in the train set: 17494136, number of used features: 17\n",
      "[LightGBM] [Info] Start training from score 0.034840\n"
     ]
    },
    {
     "data": {
      "text/html": [
       "<style>#sk-container-id-1 {color: black;background-color: white;}#sk-container-id-1 pre{padding: 0;}#sk-container-id-1 div.sk-toggleable {background-color: white;}#sk-container-id-1 label.sk-toggleable__label {cursor: pointer;display: block;width: 100%;margin-bottom: 0;padding: 0.3em;box-sizing: border-box;text-align: center;}#sk-container-id-1 label.sk-toggleable__label-arrow:before {content: \"▸\";float: left;margin-right: 0.25em;color: #696969;}#sk-container-id-1 label.sk-toggleable__label-arrow:hover:before {color: black;}#sk-container-id-1 div.sk-estimator:hover label.sk-toggleable__label-arrow:before {color: black;}#sk-container-id-1 div.sk-toggleable__content {max-height: 0;max-width: 0;overflow: hidden;text-align: left;background-color: #f0f8ff;}#sk-container-id-1 div.sk-toggleable__content pre {margin: 0.2em;color: black;border-radius: 0.25em;background-color: #f0f8ff;}#sk-container-id-1 input.sk-toggleable__control:checked~div.sk-toggleable__content {max-height: 200px;max-width: 100%;overflow: auto;}#sk-container-id-1 input.sk-toggleable__control:checked~label.sk-toggleable__label-arrow:before {content: \"▾\";}#sk-container-id-1 div.sk-estimator input.sk-toggleable__control:checked~label.sk-toggleable__label {background-color: #d4ebff;}#sk-container-id-1 div.sk-label input.sk-toggleable__control:checked~label.sk-toggleable__label {background-color: #d4ebff;}#sk-container-id-1 input.sk-hidden--visually {border: 0;clip: rect(1px 1px 1px 1px);clip: rect(1px, 1px, 1px, 1px);height: 1px;margin: -1px;overflow: hidden;padding: 0;position: absolute;width: 1px;}#sk-container-id-1 div.sk-estimator {font-family: monospace;background-color: #f0f8ff;border: 1px dotted black;border-radius: 0.25em;box-sizing: border-box;margin-bottom: 0.5em;}#sk-container-id-1 div.sk-estimator:hover {background-color: #d4ebff;}#sk-container-id-1 div.sk-parallel-item::after {content: \"\";width: 100%;border-bottom: 1px solid gray;flex-grow: 1;}#sk-container-id-1 div.sk-label:hover label.sk-toggleable__label {background-color: #d4ebff;}#sk-container-id-1 div.sk-serial::before {content: \"\";position: absolute;border-left: 1px solid gray;box-sizing: border-box;top: 0;bottom: 0;left: 50%;z-index: 0;}#sk-container-id-1 div.sk-serial {display: flex;flex-direction: column;align-items: center;background-color: white;padding-right: 0.2em;padding-left: 0.2em;position: relative;}#sk-container-id-1 div.sk-item {position: relative;z-index: 1;}#sk-container-id-1 div.sk-parallel {display: flex;align-items: stretch;justify-content: center;background-color: white;position: relative;}#sk-container-id-1 div.sk-item::before, #sk-container-id-1 div.sk-parallel-item::before {content: \"\";position: absolute;border-left: 1px solid gray;box-sizing: border-box;top: 0;bottom: 0;left: 50%;z-index: -1;}#sk-container-id-1 div.sk-parallel-item {display: flex;flex-direction: column;z-index: 1;position: relative;background-color: white;}#sk-container-id-1 div.sk-parallel-item:first-child::after {align-self: flex-end;width: 50%;}#sk-container-id-1 div.sk-parallel-item:last-child::after {align-self: flex-start;width: 50%;}#sk-container-id-1 div.sk-parallel-item:only-child::after {width: 0;}#sk-container-id-1 div.sk-dashed-wrapped {border: 1px dashed gray;margin: 0 0.4em 0.5em 0.4em;box-sizing: border-box;padding-bottom: 0.4em;background-color: white;}#sk-container-id-1 div.sk-label label {font-family: monospace;font-weight: bold;display: inline-block;line-height: 1.2em;}#sk-container-id-1 div.sk-label-container {text-align: center;}#sk-container-id-1 div.sk-container {/* jupyter's `normalize.less` sets `[hidden] { display: none; }` but bootstrap.min.css set `[hidden] { display: none !important; }` so we also need the `!important` here to be able to override the default hidden behavior on the sphinx rendered scikit-learn.org. See: https://github.com/scikit-learn/scikit-learn/issues/21755 */display: inline-block !important;position: relative;}#sk-container-id-1 div.sk-text-repr-fallback {display: none;}</style><div id=\"sk-container-id-1\" class=\"sk-top-container\"><div class=\"sk-text-repr-fallback\"><pre>LGBMRegressor(learning_rate=0.05)</pre><b>In a Jupyter environment, please rerun this cell to show the HTML representation or trust the notebook. <br />On GitHub, the HTML representation is unable to render, please try loading this page with nbviewer.org.</b></div><div class=\"sk-container\" hidden><div class=\"sk-item\"><div class=\"sk-estimator sk-toggleable\"><input class=\"sk-toggleable__control sk-hidden--visually\" id=\"sk-estimator-id-1\" type=\"checkbox\" checked><label for=\"sk-estimator-id-1\" class=\"sk-toggleable__label sk-toggleable__label-arrow\">LGBMRegressor</label><div class=\"sk-toggleable__content\"><pre>LGBMRegressor(learning_rate=0.05)</pre></div></div></div></div></div>"
      ],
      "text/plain": [
       "LGBMRegressor(learning_rate=0.05)"
      ]
     },
     "execution_count": 12,
     "metadata": {},
     "output_type": "execute_result"
    }
   ],
   "source": [
    "model = LGBMRegressor(n_estimators=100, learning_rate=0.05)\n",
    "model.fit(X_train, y_train)"
   ]
  },
  {
   "cell_type": "code",
   "execution_count": 13,
   "id": "1001e78c",
   "metadata": {
    "execution": {
     "iopub.execute_input": "2025-04-17T22:52:38.300959Z",
     "iopub.status.busy": "2025-04-17T22:52:38.300521Z",
     "iopub.status.idle": "2025-04-17T22:53:40.704692Z",
     "shell.execute_reply": "2025-04-17T22:53:40.703657Z"
    },
    "papermill": {
     "duration": 62.41148,
     "end_time": "2025-04-17T22:53:40.706813",
     "exception": false,
     "start_time": "2025-04-17T22:52:38.295333",
     "status": "completed"
    },
    "tags": []
   },
   "outputs": [],
   "source": [
    "def prepare_forecast_features(result, future_df, feature_cols, default_strategy='mean'):\n",
    "    \n",
    "    # 1. Get latest features from training data\n",
    "    grouped = result.sort_values('order_date').groupby(\n",
    "        ['customer_id', 'order_item_id'], \n",
    "        as_index=False\n",
    "    ).last()\n",
    "    \n",
    "    # 2. Merge with future template\n",
    "    final_df = future_df.merge(\n",
    "        grouped[['customer_id', 'order_item_id'] + feature_cols],\n",
    "        on=['customer_id', 'order_item_id'],\n",
    "        how='left'\n",
    "    )\n",
    "    \n",
    "    \n",
    "    return final_df\n",
    "\n",
    "\n",
    "feature_columns = ['rolling_std_14d', 'is_std_imputed', 'discount_percentage','lag_1_day','lag_7_days'\n",
    "                   ,'lag_14_days','lag_30_days','rolling_mean_7d','rolling_sum_30d']\n",
    "\n",
    "\n",
    "\n",
    "forecast_features = prepare_forecast_features(\n",
    "    result=result,\n",
    "    future_df=future_df,\n",
    "    feature_cols=feature_columns\n",
    ")"
   ]
  },
  {
   "cell_type": "code",
   "execution_count": 14,
   "id": "6c756957",
   "metadata": {
    "execution": {
     "iopub.execute_input": "2025-04-17T22:53:40.717100Z",
     "iopub.status.busy": "2025-04-17T22:53:40.716801Z",
     "iopub.status.idle": "2025-04-17T22:53:40.800519Z",
     "shell.execute_reply": "2025-04-17T22:53:40.799669Z"
    },
    "papermill": {
     "duration": 0.090759,
     "end_time": "2025-04-17T22:53:40.802184",
     "exception": false,
     "start_time": "2025-04-17T22:53:40.711425",
     "status": "completed"
    },
    "tags": []
   },
   "outputs": [],
   "source": [
    "test_model = forecast_features.iloc[:,3:]"
   ]
  },
  {
   "cell_type": "code",
   "execution_count": 15,
   "id": "3e119e38",
   "metadata": {
    "execution": {
     "iopub.execute_input": "2025-04-17T22:53:40.811796Z",
     "iopub.status.busy": "2025-04-17T22:53:40.811468Z",
     "iopub.status.idle": "2025-04-17T22:53:40.879102Z",
     "shell.execute_reply": "2025-04-17T22:53:40.878185Z"
    },
    "papermill": {
     "duration": 0.07449,
     "end_time": "2025-04-17T22:53:40.880714",
     "exception": false,
     "start_time": "2025-04-17T22:53:40.806224",
     "status": "completed"
    },
    "tags": []
   },
   "outputs": [],
   "source": [
    "test_model = test_model.drop(6, axis = 1, errors = 'ignore')"
   ]
  },
  {
   "cell_type": "code",
   "execution_count": 16,
   "id": "7afa77b2",
   "metadata": {
    "execution": {
     "iopub.execute_input": "2025-04-17T22:53:40.892218Z",
     "iopub.status.busy": "2025-04-17T22:53:40.891876Z",
     "iopub.status.idle": "2025-04-17T22:53:43.422975Z",
     "shell.execute_reply": "2025-04-17T22:53:43.421771Z"
    },
    "papermill": {
     "duration": 2.539541,
     "end_time": "2025-04-17T22:53:43.424576",
     "exception": false,
     "start_time": "2025-04-17T22:53:40.885035",
     "status": "completed"
    },
    "tags": []
   },
   "outputs": [
    {
     "data": {
      "text/plain": [
       "array([4.10740469e-04, 4.10740469e-04, 4.10740469e-04, ...,\n",
       "       7.79091759e-01, 7.79091759e-01, 1.64093578e+00])"
      ]
     },
     "execution_count": 16,
     "metadata": {},
     "output_type": "execute_result"
    }
   ],
   "source": [
    "test_pred = model.predict(test_model)\n",
    "test_pred"
   ]
  },
  {
   "cell_type": "code",
   "execution_count": 17,
   "id": "822025da",
   "metadata": {
    "execution": {
     "iopub.execute_input": "2025-04-17T22:53:43.436180Z",
     "iopub.status.busy": "2025-04-17T22:53:43.435856Z",
     "iopub.status.idle": "2025-04-17T22:53:43.467710Z",
     "shell.execute_reply": "2025-04-17T22:53:43.466551Z"
    },
    "papermill": {
     "duration": 0.039239,
     "end_time": "2025-04-17T22:53:43.469513",
     "exception": false,
     "start_time": "2025-04-17T22:53:43.430274",
     "status": "completed"
    },
    "tags": []
   },
   "outputs": [
    {
     "data": {
      "text/html": [
       "<div>\n",
       "<style scoped>\n",
       "    .dataframe tbody tr th:only-of-type {\n",
       "        vertical-align: middle;\n",
       "    }\n",
       "\n",
       "    .dataframe tbody tr th {\n",
       "        vertical-align: top;\n",
       "    }\n",
       "\n",
       "    .dataframe thead th {\n",
       "        text-align: right;\n",
       "    }\n",
       "</style>\n",
       "<table border=\"1\" class=\"dataframe\">\n",
       "  <thead>\n",
       "    <tr style=\"text-align: right;\">\n",
       "      <th></th>\n",
       "      <th>0</th>\n",
       "    </tr>\n",
       "  </thead>\n",
       "  <tbody>\n",
       "    <tr>\n",
       "      <th>0</th>\n",
       "      <td>0.0</td>\n",
       "    </tr>\n",
       "    <tr>\n",
       "      <th>1</th>\n",
       "      <td>0.0</td>\n",
       "    </tr>\n",
       "    <tr>\n",
       "      <th>2</th>\n",
       "      <td>0.0</td>\n",
       "    </tr>\n",
       "    <tr>\n",
       "      <th>3</th>\n",
       "      <td>0.0</td>\n",
       "    </tr>\n",
       "    <tr>\n",
       "      <th>4</th>\n",
       "      <td>0.0</td>\n",
       "    </tr>\n",
       "    <tr>\n",
       "      <th>...</th>\n",
       "      <td>...</td>\n",
       "    </tr>\n",
       "    <tr>\n",
       "      <th>1611297</th>\n",
       "      <td>1.0</td>\n",
       "    </tr>\n",
       "    <tr>\n",
       "      <th>1611298</th>\n",
       "      <td>1.0</td>\n",
       "    </tr>\n",
       "    <tr>\n",
       "      <th>1611299</th>\n",
       "      <td>1.0</td>\n",
       "    </tr>\n",
       "    <tr>\n",
       "      <th>1611300</th>\n",
       "      <td>1.0</td>\n",
       "    </tr>\n",
       "    <tr>\n",
       "      <th>1611301</th>\n",
       "      <td>2.0</td>\n",
       "    </tr>\n",
       "  </tbody>\n",
       "</table>\n",
       "<p>1611302 rows × 1 columns</p>\n",
       "</div>"
      ],
      "text/plain": [
       "           0\n",
       "0        0.0\n",
       "1        0.0\n",
       "2        0.0\n",
       "3        0.0\n",
       "4        0.0\n",
       "...      ...\n",
       "1611297  1.0\n",
       "1611298  1.0\n",
       "1611299  1.0\n",
       "1611300  1.0\n",
       "1611301  2.0\n",
       "\n",
       "[1611302 rows x 1 columns]"
      ]
     },
     "execution_count": 17,
     "metadata": {},
     "output_type": "execute_result"
    }
   ],
   "source": [
    "test_quantities = pd.DataFrame(np.round(test_pred))\n",
    "test_quantities"
   ]
  },
  {
   "cell_type": "code",
   "execution_count": 18,
   "id": "be8c2ba8",
   "metadata": {
    "execution": {
     "iopub.execute_input": "2025-04-17T22:53:43.479754Z",
     "iopub.status.busy": "2025-04-17T22:53:43.479422Z",
     "iopub.status.idle": "2025-04-17T22:53:45.167303Z",
     "shell.execute_reply": "2025-04-17T22:53:45.166286Z"
    },
    "papermill": {
     "duration": 1.69496,
     "end_time": "2025-04-17T22:53:45.169045",
     "exception": false,
     "start_time": "2025-04-17T22:53:43.474085",
     "status": "completed"
    },
    "tags": []
   },
   "outputs": [],
   "source": [
    "test_quantities.to_csv('forecasted_quantities.csv')"
   ]
  },
  {
   "cell_type": "code",
   "execution_count": null,
   "id": "25e2a04f",
   "metadata": {
    "papermill": {
     "duration": 0.004145,
     "end_time": "2025-04-17T22:53:45.177887",
     "exception": false,
     "start_time": "2025-04-17T22:53:45.173742",
     "status": "completed"
    },
    "tags": []
   },
   "outputs": [],
   "source": []
  }
 ],
 "metadata": {
  "kaggle": {
   "accelerator": "none",
   "dataSources": [
    {
     "datasetId": 7141795,
     "sourceId": 11402345,
     "sourceType": "datasetVersion"
    },
    {
     "datasetId": 7175443,
     "sourceId": 11452163,
     "sourceType": "datasetVersion"
    }
   ],
   "dockerImageVersionId": 31012,
   "isGpuEnabled": false,
   "isInternetEnabled": true,
   "language": "python",
   "sourceType": "notebook"
  },
  "kernelspec": {
   "display_name": "Python 3",
   "language": "python",
   "name": "python3"
  },
  "language_info": {
   "codemirror_mode": {
    "name": "ipython",
    "version": 3
   },
   "file_extension": ".py",
   "mimetype": "text/x-python",
   "name": "python",
   "nbconvert_exporter": "python",
   "pygments_lexer": "ipython3",
   "version": "3.11.11"
  },
  "papermill": {
   "default_parameters": {},
   "duration": 208.140737,
   "end_time": "2025-04-17T22:53:46.807893",
   "environment_variables": {},
   "exception": null,
   "input_path": "__notebook__.ipynb",
   "output_path": "__notebook__.ipynb",
   "parameters": {},
   "start_time": "2025-04-17T22:50:18.667156",
   "version": "2.6.0"
  }
 },
 "nbformat": 4,
 "nbformat_minor": 5
}
