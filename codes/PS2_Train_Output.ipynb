{
 "cells": [
  {
   "cell_type": "code",
   "execution_count": 1,
   "id": "61e12860",
   "metadata": {
    "_cell_guid": "b1076dfc-b9ad-4769-8c92-a6c4dae69d19",
    "_uuid": "8f2839f25d086af736a60e9eeb907d3b93b6e0e5",
    "execution": {
     "iopub.execute_input": "2025-04-17T22:57:58.160692Z",
     "iopub.status.busy": "2025-04-17T22:57:58.159955Z",
     "iopub.status.idle": "2025-04-17T22:57:59.678949Z",
     "shell.execute_reply": "2025-04-17T22:57:59.678141Z"
    },
    "papermill": {
     "duration": 1.524119,
     "end_time": "2025-04-17T22:57:59.680238",
     "exception": false,
     "start_time": "2025-04-17T22:57:58.156119",
     "status": "completed"
    },
    "tags": []
   },
   "outputs": [
    {
     "name": "stdout",
     "output_type": "stream",
     "text": [
      "/kaggle/input/forecast-data/forecast_complete_data.csv\n",
      "/kaggle/input/items-orders/Orders data.xlsx\n",
      "/kaggle/input/items-orders/Associated_Item_data.csv\n"
     ]
    }
   ],
   "source": [
    "# This Python 3 environment comes with many helpful analytics libraries installed\n",
    "# It is defined by the kaggle/python Docker image: https://github.com/kaggle/docker-python\n",
    "# For example, here's several helpful packages to load\n",
    "\n",
    "import numpy as np # linear algebra\n",
    "import pandas as pd # data processing, CSV file I/O (e.g. pd.read_csv)\n",
    "\n",
    "# Input data files are available in the read-only \"../input/\" directory\n",
    "# For example, running this (by clicking run or pressing Shift+Enter) will list all files under the input directory\n",
    "\n",
    "import os\n",
    "for dirname, _, filenames in os.walk('/kaggle/input'):\n",
    "    for filename in filenames:\n",
    "        print(os.path.join(dirname, filename))\n",
    "\n",
    "# You can write up to 20GB to the current directory (/kaggle/working/) that gets preserved as output when you create a version using \"Save & Run All\" \n",
    "# You can also write temporary files to /kaggle/temp/, but they won't be saved outside of the current session"
   ]
  },
  {
   "cell_type": "code",
   "execution_count": 2,
   "id": "9ff18766",
   "metadata": {
    "execution": {
     "iopub.execute_input": "2025-04-17T22:57:59.685961Z",
     "iopub.status.busy": "2025-04-17T22:57:59.685651Z",
     "iopub.status.idle": "2025-04-17T22:58:40.450841Z",
     "shell.execute_reply": "2025-04-17T22:58:40.450068Z"
    },
    "papermill": {
     "duration": 40.769401,
     "end_time": "2025-04-17T22:58:40.452312",
     "exception": false,
     "start_time": "2025-04-17T22:57:59.682911",
     "status": "completed"
    },
    "tags": []
   },
   "outputs": [],
   "source": [
    "result = pd.read_csv(r'/kaggle/input/forecast-data/forecast_complete_data.csv')"
   ]
  },
  {
   "cell_type": "code",
   "execution_count": 3,
   "id": "d1dc5f99",
   "metadata": {
    "execution": {
     "iopub.execute_input": "2025-04-17T22:58:40.458228Z",
     "iopub.status.busy": "2025-04-17T22:58:40.457774Z",
     "iopub.status.idle": "2025-04-17T22:58:40.462776Z",
     "shell.execute_reply": "2025-04-17T22:58:40.462107Z"
    },
    "papermill": {
     "duration": 0.009038,
     "end_time": "2025-04-17T22:58:40.463881",
     "exception": false,
     "start_time": "2025-04-17T22:58:40.454843",
     "status": "completed"
    },
    "tags": []
   },
   "outputs": [
    {
     "data": {
      "text/plain": [
       "(22212949, 22)"
      ]
     },
     "execution_count": 3,
     "metadata": {},
     "output_type": "execute_result"
    }
   ],
   "source": [
    "result.shape"
   ]
  },
  {
   "cell_type": "code",
   "execution_count": 4,
   "id": "f321488a",
   "metadata": {
    "execution": {
     "iopub.execute_input": "2025-04-17T22:58:40.469087Z",
     "iopub.status.busy": "2025-04-17T22:58:40.468711Z",
     "iopub.status.idle": "2025-04-17T22:58:46.283467Z",
     "shell.execute_reply": "2025-04-17T22:58:46.282710Z"
    },
    "papermill": {
     "duration": 5.818567,
     "end_time": "2025-04-17T22:58:46.284676",
     "exception": false,
     "start_time": "2025-04-17T22:58:40.466109",
     "status": "completed"
    },
    "tags": []
   },
   "outputs": [
    {
     "data": {
      "text/html": [
       "<div>\n",
       "<style scoped>\n",
       "    .dataframe tbody tr th:only-of-type {\n",
       "        vertical-align: middle;\n",
       "    }\n",
       "\n",
       "    .dataframe tbody tr th {\n",
       "        vertical-align: top;\n",
       "    }\n",
       "\n",
       "    .dataframe thead th {\n",
       "        text-align: right;\n",
       "    }\n",
       "</style>\n",
       "<table border=\"1\" class=\"dataframe\">\n",
       "  <thead>\n",
       "    <tr style=\"text-align: right;\">\n",
       "      <th></th>\n",
       "      <th>customer_id</th>\n",
       "      <th>order_item_id</th>\n",
       "      <th>order_date</th>\n",
       "      <th>quantity</th>\n",
       "      <th>lag_1_day</th>\n",
       "      <th>lag_7_days</th>\n",
       "      <th>lag_14_days</th>\n",
       "      <th>lag_30_days</th>\n",
       "      <th>rolling_mean_7d</th>\n",
       "      <th>rolling_sum_30d</th>\n",
       "      <th>...</th>\n",
       "      <th>is_std_imputed</th>\n",
       "      <th>discount_percentage</th>\n",
       "      <th>holiday</th>\n",
       "      <th>is_weekend</th>\n",
       "      <th>Friday</th>\n",
       "      <th>Monday</th>\n",
       "      <th>Saturday</th>\n",
       "      <th>Sunday</th>\n",
       "      <th>Thursday</th>\n",
       "      <th>Tuesday</th>\n",
       "    </tr>\n",
       "  </thead>\n",
       "  <tbody>\n",
       "    <tr>\n",
       "      <th>0</th>\n",
       "      <td>5980</td>\n",
       "      <td>202967</td>\n",
       "      <td>2024-09-30</td>\n",
       "      <td>0.0</td>\n",
       "      <td>0.0</td>\n",
       "      <td>0.0</td>\n",
       "      <td>0.0</td>\n",
       "      <td>0.0</td>\n",
       "      <td>0.000000</td>\n",
       "      <td>0.0</td>\n",
       "      <td>...</td>\n",
       "      <td>0.0</td>\n",
       "      <td>0.000000</td>\n",
       "      <td>0</td>\n",
       "      <td>0</td>\n",
       "      <td>0</td>\n",
       "      <td>1</td>\n",
       "      <td>0</td>\n",
       "      <td>0</td>\n",
       "      <td>0</td>\n",
       "      <td>0</td>\n",
       "    </tr>\n",
       "    <tr>\n",
       "      <th>1</th>\n",
       "      <td>5980</td>\n",
       "      <td>202967</td>\n",
       "      <td>2024-10-01</td>\n",
       "      <td>0.0</td>\n",
       "      <td>0.0</td>\n",
       "      <td>0.0</td>\n",
       "      <td>0.0</td>\n",
       "      <td>0.0</td>\n",
       "      <td>0.000000</td>\n",
       "      <td>0.0</td>\n",
       "      <td>...</td>\n",
       "      <td>0.0</td>\n",
       "      <td>0.000000</td>\n",
       "      <td>0</td>\n",
       "      <td>0</td>\n",
       "      <td>0</td>\n",
       "      <td>0</td>\n",
       "      <td>0</td>\n",
       "      <td>0</td>\n",
       "      <td>0</td>\n",
       "      <td>1</td>\n",
       "    </tr>\n",
       "    <tr>\n",
       "      <th>2</th>\n",
       "      <td>5980</td>\n",
       "      <td>202967</td>\n",
       "      <td>2024-10-02</td>\n",
       "      <td>0.0</td>\n",
       "      <td>0.0</td>\n",
       "      <td>0.0</td>\n",
       "      <td>0.0</td>\n",
       "      <td>0.0</td>\n",
       "      <td>0.000000</td>\n",
       "      <td>0.0</td>\n",
       "      <td>...</td>\n",
       "      <td>0.0</td>\n",
       "      <td>0.000000</td>\n",
       "      <td>1</td>\n",
       "      <td>0</td>\n",
       "      <td>0</td>\n",
       "      <td>0</td>\n",
       "      <td>0</td>\n",
       "      <td>0</td>\n",
       "      <td>0</td>\n",
       "      <td>0</td>\n",
       "    </tr>\n",
       "    <tr>\n",
       "      <th>3</th>\n",
       "      <td>5980</td>\n",
       "      <td>202967</td>\n",
       "      <td>2024-10-03</td>\n",
       "      <td>0.0</td>\n",
       "      <td>0.0</td>\n",
       "      <td>0.0</td>\n",
       "      <td>0.0</td>\n",
       "      <td>0.0</td>\n",
       "      <td>0.000000</td>\n",
       "      <td>0.0</td>\n",
       "      <td>...</td>\n",
       "      <td>0.0</td>\n",
       "      <td>0.000000</td>\n",
       "      <td>0</td>\n",
       "      <td>0</td>\n",
       "      <td>0</td>\n",
       "      <td>0</td>\n",
       "      <td>0</td>\n",
       "      <td>0</td>\n",
       "      <td>1</td>\n",
       "      <td>0</td>\n",
       "    </tr>\n",
       "    <tr>\n",
       "      <th>4</th>\n",
       "      <td>5980</td>\n",
       "      <td>202967</td>\n",
       "      <td>2024-10-04</td>\n",
       "      <td>0.0</td>\n",
       "      <td>0.0</td>\n",
       "      <td>0.0</td>\n",
       "      <td>0.0</td>\n",
       "      <td>0.0</td>\n",
       "      <td>0.000000</td>\n",
       "      <td>0.0</td>\n",
       "      <td>...</td>\n",
       "      <td>0.0</td>\n",
       "      <td>0.000000</td>\n",
       "      <td>0</td>\n",
       "      <td>0</td>\n",
       "      <td>1</td>\n",
       "      <td>0</td>\n",
       "      <td>0</td>\n",
       "      <td>0</td>\n",
       "      <td>0</td>\n",
       "      <td>0</td>\n",
       "    </tr>\n",
       "    <tr>\n",
       "      <th>...</th>\n",
       "      <td>...</td>\n",
       "      <td>...</td>\n",
       "      <td>...</td>\n",
       "      <td>...</td>\n",
       "      <td>...</td>\n",
       "      <td>...</td>\n",
       "      <td>...</td>\n",
       "      <td>...</td>\n",
       "      <td>...</td>\n",
       "      <td>...</td>\n",
       "      <td>...</td>\n",
       "      <td>...</td>\n",
       "      <td>...</td>\n",
       "      <td>...</td>\n",
       "      <td>...</td>\n",
       "      <td>...</td>\n",
       "      <td>...</td>\n",
       "      <td>...</td>\n",
       "      <td>...</td>\n",
       "      <td>...</td>\n",
       "      <td>...</td>\n",
       "    </tr>\n",
       "    <tr>\n",
       "      <th>22212944</th>\n",
       "      <td>7056</td>\n",
       "      <td>262487</td>\n",
       "      <td>2025-04-06</td>\n",
       "      <td>0.0</td>\n",
       "      <td>0.0</td>\n",
       "      <td>0.0</td>\n",
       "      <td>0.0</td>\n",
       "      <td>0.0</td>\n",
       "      <td>0.000000</td>\n",
       "      <td>0.0</td>\n",
       "      <td>...</td>\n",
       "      <td>0.0</td>\n",
       "      <td>0.000000</td>\n",
       "      <td>0</td>\n",
       "      <td>1</td>\n",
       "      <td>0</td>\n",
       "      <td>0</td>\n",
       "      <td>0</td>\n",
       "      <td>1</td>\n",
       "      <td>0</td>\n",
       "      <td>0</td>\n",
       "    </tr>\n",
       "    <tr>\n",
       "      <th>22212945</th>\n",
       "      <td>7056</td>\n",
       "      <td>262487</td>\n",
       "      <td>2025-04-07</td>\n",
       "      <td>0.0</td>\n",
       "      <td>0.0</td>\n",
       "      <td>0.0</td>\n",
       "      <td>0.0</td>\n",
       "      <td>0.0</td>\n",
       "      <td>0.000000</td>\n",
       "      <td>0.0</td>\n",
       "      <td>...</td>\n",
       "      <td>0.0</td>\n",
       "      <td>0.000000</td>\n",
       "      <td>0</td>\n",
       "      <td>0</td>\n",
       "      <td>0</td>\n",
       "      <td>1</td>\n",
       "      <td>0</td>\n",
       "      <td>0</td>\n",
       "      <td>0</td>\n",
       "      <td>0</td>\n",
       "    </tr>\n",
       "    <tr>\n",
       "      <th>22212946</th>\n",
       "      <td>7056</td>\n",
       "      <td>262487</td>\n",
       "      <td>2025-04-08</td>\n",
       "      <td>0.0</td>\n",
       "      <td>0.0</td>\n",
       "      <td>0.0</td>\n",
       "      <td>0.0</td>\n",
       "      <td>0.0</td>\n",
       "      <td>0.000000</td>\n",
       "      <td>0.0</td>\n",
       "      <td>...</td>\n",
       "      <td>0.0</td>\n",
       "      <td>0.000000</td>\n",
       "      <td>0</td>\n",
       "      <td>0</td>\n",
       "      <td>0</td>\n",
       "      <td>0</td>\n",
       "      <td>0</td>\n",
       "      <td>0</td>\n",
       "      <td>0</td>\n",
       "      <td>1</td>\n",
       "    </tr>\n",
       "    <tr>\n",
       "      <th>22212947</th>\n",
       "      <td>7056</td>\n",
       "      <td>262487</td>\n",
       "      <td>2025-04-09</td>\n",
       "      <td>0.0</td>\n",
       "      <td>0.0</td>\n",
       "      <td>0.0</td>\n",
       "      <td>0.0</td>\n",
       "      <td>0.0</td>\n",
       "      <td>0.000000</td>\n",
       "      <td>0.0</td>\n",
       "      <td>...</td>\n",
       "      <td>0.0</td>\n",
       "      <td>0.000000</td>\n",
       "      <td>0</td>\n",
       "      <td>0</td>\n",
       "      <td>0</td>\n",
       "      <td>0</td>\n",
       "      <td>0</td>\n",
       "      <td>0</td>\n",
       "      <td>0</td>\n",
       "      <td>0</td>\n",
       "    </tr>\n",
       "    <tr>\n",
       "      <th>22212948</th>\n",
       "      <td>7056</td>\n",
       "      <td>262487</td>\n",
       "      <td>2025-04-10</td>\n",
       "      <td>1.0</td>\n",
       "      <td>1.0</td>\n",
       "      <td>0.0</td>\n",
       "      <td>0.0</td>\n",
       "      <td>0.0</td>\n",
       "      <td>1.285714</td>\n",
       "      <td>9.0</td>\n",
       "      <td>...</td>\n",
       "      <td>0.0</td>\n",
       "      <td>0.386207</td>\n",
       "      <td>0</td>\n",
       "      <td>0</td>\n",
       "      <td>0</td>\n",
       "      <td>0</td>\n",
       "      <td>0</td>\n",
       "      <td>0</td>\n",
       "      <td>1</td>\n",
       "      <td>0</td>\n",
       "    </tr>\n",
       "  </tbody>\n",
       "</table>\n",
       "<p>22212949 rows × 21 columns</p>\n",
       "</div>"
      ],
      "text/plain": [
       "          customer_id  order_item_id  order_date  quantity  lag_1_day  \\\n",
       "0                5980         202967  2024-09-30       0.0        0.0   \n",
       "1                5980         202967  2024-10-01       0.0        0.0   \n",
       "2                5980         202967  2024-10-02       0.0        0.0   \n",
       "3                5980         202967  2024-10-03       0.0        0.0   \n",
       "4                5980         202967  2024-10-04       0.0        0.0   \n",
       "...               ...            ...         ...       ...        ...   \n",
       "22212944         7056         262487  2025-04-06       0.0        0.0   \n",
       "22212945         7056         262487  2025-04-07       0.0        0.0   \n",
       "22212946         7056         262487  2025-04-08       0.0        0.0   \n",
       "22212947         7056         262487  2025-04-09       0.0        0.0   \n",
       "22212948         7056         262487  2025-04-10       1.0        1.0   \n",
       "\n",
       "          lag_7_days  lag_14_days  lag_30_days  rolling_mean_7d  \\\n",
       "0                0.0          0.0          0.0         0.000000   \n",
       "1                0.0          0.0          0.0         0.000000   \n",
       "2                0.0          0.0          0.0         0.000000   \n",
       "3                0.0          0.0          0.0         0.000000   \n",
       "4                0.0          0.0          0.0         0.000000   \n",
       "...              ...          ...          ...              ...   \n",
       "22212944         0.0          0.0          0.0         0.000000   \n",
       "22212945         0.0          0.0          0.0         0.000000   \n",
       "22212946         0.0          0.0          0.0         0.000000   \n",
       "22212947         0.0          0.0          0.0         0.000000   \n",
       "22212948         0.0          0.0          0.0         1.285714   \n",
       "\n",
       "          rolling_sum_30d  ...  is_std_imputed  discount_percentage  holiday  \\\n",
       "0                     0.0  ...             0.0             0.000000        0   \n",
       "1                     0.0  ...             0.0             0.000000        0   \n",
       "2                     0.0  ...             0.0             0.000000        1   \n",
       "3                     0.0  ...             0.0             0.000000        0   \n",
       "4                     0.0  ...             0.0             0.000000        0   \n",
       "...                   ...  ...             ...                  ...      ...   \n",
       "22212944              0.0  ...             0.0             0.000000        0   \n",
       "22212945              0.0  ...             0.0             0.000000        0   \n",
       "22212946              0.0  ...             0.0             0.000000        0   \n",
       "22212947              0.0  ...             0.0             0.000000        0   \n",
       "22212948              9.0  ...             0.0             0.386207        0   \n",
       "\n",
       "          is_weekend  Friday  Monday  Saturday  Sunday  Thursday  Tuesday  \n",
       "0                  0       0       1         0       0         0        0  \n",
       "1                  0       0       0         0       0         0        1  \n",
       "2                  0       0       0         0       0         0        0  \n",
       "3                  0       0       0         0       0         1        0  \n",
       "4                  0       1       0         0       0         0        0  \n",
       "...              ...     ...     ...       ...     ...       ...      ...  \n",
       "22212944           1       0       0         0       1         0        0  \n",
       "22212945           0       0       1         0       0         0        0  \n",
       "22212946           0       0       0         0       0         0        1  \n",
       "22212947           0       0       0         0       0         0        0  \n",
       "22212948           0       0       0         0       0         1        0  \n",
       "\n",
       "[22212949 rows x 21 columns]"
      ]
     },
     "execution_count": 4,
     "metadata": {},
     "output_type": "execute_result"
    }
   ],
   "source": [
    "result = result.iloc[:,1:]\n",
    "result"
   ]
  },
  {
   "cell_type": "code",
   "execution_count": 5,
   "id": "005a577d",
   "metadata": {
    "execution": {
     "iopub.execute_input": "2025-04-17T22:58:46.290840Z",
     "iopub.status.busy": "2025-04-17T22:58:46.290623Z",
     "iopub.status.idle": "2025-04-17T22:58:46.455484Z",
     "shell.execute_reply": "2025-04-17T22:58:46.454924Z"
    },
    "papermill": {
     "duration": 0.169018,
     "end_time": "2025-04-17T22:58:46.456579",
     "exception": false,
     "start_time": "2025-04-17T22:58:46.287561",
     "status": "completed"
    },
    "tags": []
   },
   "outputs": [
    {
     "data": {
      "text/plain": [
       "discount_percentage\n",
       "0.000000    22102872\n",
       "0.066667         481\n",
       "0.111111         467\n",
       "0.090909         362\n",
       "0.071429         327\n",
       "              ...   \n",
       "0.119054           1\n",
       "0.115132           1\n",
       "3.579677           1\n",
       "1.524164           1\n",
       "0.192432           1\n",
       "Name: count, Length: 26392, dtype: int64"
      ]
     },
     "execution_count": 5,
     "metadata": {},
     "output_type": "execute_result"
    }
   ],
   "source": [
    "result['discount_percentage'].value_counts()"
   ]
  },
  {
   "cell_type": "code",
   "execution_count": 6,
   "id": "519d8b4e",
   "metadata": {
    "execution": {
     "iopub.execute_input": "2025-04-17T22:58:46.463898Z",
     "iopub.status.busy": "2025-04-17T22:58:46.463683Z",
     "iopub.status.idle": "2025-04-17T22:58:51.371803Z",
     "shell.execute_reply": "2025-04-17T22:58:51.371230Z"
    },
    "papermill": {
     "duration": 4.912766,
     "end_time": "2025-04-17T22:58:51.373197",
     "exception": false,
     "start_time": "2025-04-17T22:58:46.460431",
     "status": "completed"
    },
    "tags": []
   },
   "outputs": [],
   "source": [
    "X_train = result[result['order_date'] < '2025-03-01'].iloc[:,4:]\n",
    "X_test = result[result['order_date'] >= '2025-03-01'].iloc[:,4:]"
   ]
  },
  {
   "cell_type": "code",
   "execution_count": 7,
   "id": "1056e230",
   "metadata": {
    "execution": {
     "iopub.execute_input": "2025-04-17T22:58:51.380337Z",
     "iopub.status.busy": "2025-04-17T22:58:51.380081Z",
     "iopub.status.idle": "2025-04-17T22:58:55.628764Z",
     "shell.execute_reply": "2025-04-17T22:58:55.628223Z"
    },
    "papermill": {
     "duration": 4.253643,
     "end_time": "2025-04-17T22:58:55.630040",
     "exception": false,
     "start_time": "2025-04-17T22:58:51.376397",
     "status": "completed"
    },
    "tags": []
   },
   "outputs": [],
   "source": [
    "y_train = result[result['order_date'] < '2025-03-01'].iloc[:,3]\n",
    "y_test = result[result['order_date'] >= '2025-03-01'].iloc[:,3]"
   ]
  },
  {
   "cell_type": "code",
   "execution_count": 8,
   "id": "646e471e",
   "metadata": {
    "execution": {
     "iopub.execute_input": "2025-04-17T22:58:55.636313Z",
     "iopub.status.busy": "2025-04-17T22:58:55.636116Z",
     "iopub.status.idle": "2025-04-17T22:59:01.922756Z",
     "shell.execute_reply": "2025-04-17T22:59:01.922027Z"
    },
    "papermill": {
     "duration": 6.291364,
     "end_time": "2025-04-17T22:59:01.924236",
     "exception": false,
     "start_time": "2025-04-17T22:58:55.632872",
     "status": "completed"
    },
    "tags": []
   },
   "outputs": [],
   "source": [
    "# For gradient boosting approach\n",
    "from lightgbm import LGBMRegressor\n",
    "from sklearn.metrics import mean_absolute_error, mean_squared_error, r2_score"
   ]
  },
  {
   "cell_type": "code",
   "execution_count": 9,
   "id": "d3d3fed8",
   "metadata": {
    "execution": {
     "iopub.execute_input": "2025-04-17T22:59:01.931216Z",
     "iopub.status.busy": "2025-04-17T22:59:01.930399Z",
     "iopub.status.idle": "2025-04-17T22:59:30.481151Z",
     "shell.execute_reply": "2025-04-17T22:59:30.480416Z"
    },
    "papermill": {
     "duration": 28.555176,
     "end_time": "2025-04-17T22:59:30.482327",
     "exception": false,
     "start_time": "2025-04-17T22:59:01.927151",
     "status": "completed"
    },
    "tags": []
   },
   "outputs": [
    {
     "name": "stdout",
     "output_type": "stream",
     "text": [
      "[LightGBM] [Info] Auto-choosing row-wise multi-threading, the overhead of testing was 0.725752 seconds.\n",
      "You can set `force_row_wise=true` to remove the overhead.\n",
      "And if memory is not enough, you can set `force_col_wise=true`.\n",
      "[LightGBM] [Info] Total Bins 740\n",
      "[LightGBM] [Info] Number of data points in the train set: 17494136, number of used features: 17\n",
      "[LightGBM] [Info] Start training from score 0.034840\n"
     ]
    },
    {
     "data": {
      "text/html": [
       "<style>#sk-container-id-1 {color: black;background-color: white;}#sk-container-id-1 pre{padding: 0;}#sk-container-id-1 div.sk-toggleable {background-color: white;}#sk-container-id-1 label.sk-toggleable__label {cursor: pointer;display: block;width: 100%;margin-bottom: 0;padding: 0.3em;box-sizing: border-box;text-align: center;}#sk-container-id-1 label.sk-toggleable__label-arrow:before {content: \"▸\";float: left;margin-right: 0.25em;color: #696969;}#sk-container-id-1 label.sk-toggleable__label-arrow:hover:before {color: black;}#sk-container-id-1 div.sk-estimator:hover label.sk-toggleable__label-arrow:before {color: black;}#sk-container-id-1 div.sk-toggleable__content {max-height: 0;max-width: 0;overflow: hidden;text-align: left;background-color: #f0f8ff;}#sk-container-id-1 div.sk-toggleable__content pre {margin: 0.2em;color: black;border-radius: 0.25em;background-color: #f0f8ff;}#sk-container-id-1 input.sk-toggleable__control:checked~div.sk-toggleable__content {max-height: 200px;max-width: 100%;overflow: auto;}#sk-container-id-1 input.sk-toggleable__control:checked~label.sk-toggleable__label-arrow:before {content: \"▾\";}#sk-container-id-1 div.sk-estimator input.sk-toggleable__control:checked~label.sk-toggleable__label {background-color: #d4ebff;}#sk-container-id-1 div.sk-label input.sk-toggleable__control:checked~label.sk-toggleable__label {background-color: #d4ebff;}#sk-container-id-1 input.sk-hidden--visually {border: 0;clip: rect(1px 1px 1px 1px);clip: rect(1px, 1px, 1px, 1px);height: 1px;margin: -1px;overflow: hidden;padding: 0;position: absolute;width: 1px;}#sk-container-id-1 div.sk-estimator {font-family: monospace;background-color: #f0f8ff;border: 1px dotted black;border-radius: 0.25em;box-sizing: border-box;margin-bottom: 0.5em;}#sk-container-id-1 div.sk-estimator:hover {background-color: #d4ebff;}#sk-container-id-1 div.sk-parallel-item::after {content: \"\";width: 100%;border-bottom: 1px solid gray;flex-grow: 1;}#sk-container-id-1 div.sk-label:hover label.sk-toggleable__label {background-color: #d4ebff;}#sk-container-id-1 div.sk-serial::before {content: \"\";position: absolute;border-left: 1px solid gray;box-sizing: border-box;top: 0;bottom: 0;left: 50%;z-index: 0;}#sk-container-id-1 div.sk-serial {display: flex;flex-direction: column;align-items: center;background-color: white;padding-right: 0.2em;padding-left: 0.2em;position: relative;}#sk-container-id-1 div.sk-item {position: relative;z-index: 1;}#sk-container-id-1 div.sk-parallel {display: flex;align-items: stretch;justify-content: center;background-color: white;position: relative;}#sk-container-id-1 div.sk-item::before, #sk-container-id-1 div.sk-parallel-item::before {content: \"\";position: absolute;border-left: 1px solid gray;box-sizing: border-box;top: 0;bottom: 0;left: 50%;z-index: -1;}#sk-container-id-1 div.sk-parallel-item {display: flex;flex-direction: column;z-index: 1;position: relative;background-color: white;}#sk-container-id-1 div.sk-parallel-item:first-child::after {align-self: flex-end;width: 50%;}#sk-container-id-1 div.sk-parallel-item:last-child::after {align-self: flex-start;width: 50%;}#sk-container-id-1 div.sk-parallel-item:only-child::after {width: 0;}#sk-container-id-1 div.sk-dashed-wrapped {border: 1px dashed gray;margin: 0 0.4em 0.5em 0.4em;box-sizing: border-box;padding-bottom: 0.4em;background-color: white;}#sk-container-id-1 div.sk-label label {font-family: monospace;font-weight: bold;display: inline-block;line-height: 1.2em;}#sk-container-id-1 div.sk-label-container {text-align: center;}#sk-container-id-1 div.sk-container {/* jupyter's `normalize.less` sets `[hidden] { display: none; }` but bootstrap.min.css set `[hidden] { display: none !important; }` so we also need the `!important` here to be able to override the default hidden behavior on the sphinx rendered scikit-learn.org. See: https://github.com/scikit-learn/scikit-learn/issues/21755 */display: inline-block !important;position: relative;}#sk-container-id-1 div.sk-text-repr-fallback {display: none;}</style><div id=\"sk-container-id-1\" class=\"sk-top-container\"><div class=\"sk-text-repr-fallback\"><pre>LGBMRegressor(learning_rate=0.05)</pre><b>In a Jupyter environment, please rerun this cell to show the HTML representation or trust the notebook. <br />On GitHub, the HTML representation is unable to render, please try loading this page with nbviewer.org.</b></div><div class=\"sk-container\" hidden><div class=\"sk-item\"><div class=\"sk-estimator sk-toggleable\"><input class=\"sk-toggleable__control sk-hidden--visually\" id=\"sk-estimator-id-1\" type=\"checkbox\" checked><label for=\"sk-estimator-id-1\" class=\"sk-toggleable__label sk-toggleable__label-arrow\">LGBMRegressor</label><div class=\"sk-toggleable__content\"><pre>LGBMRegressor(learning_rate=0.05)</pre></div></div></div></div></div>"
      ],
      "text/plain": [
       "LGBMRegressor(learning_rate=0.05)"
      ]
     },
     "execution_count": 9,
     "metadata": {},
     "output_type": "execute_result"
    }
   ],
   "source": [
    "model = LGBMRegressor(n_estimators=100, learning_rate=0.05)\n",
    "model.fit(X_train, y_train)"
   ]
  },
  {
   "cell_type": "code",
   "execution_count": 10,
   "id": "31cad1fd",
   "metadata": {
    "execution": {
     "iopub.execute_input": "2025-04-17T22:59:30.489583Z",
     "iopub.status.busy": "2025-04-17T22:59:30.489369Z",
     "iopub.status.idle": "2025-04-17T22:59:37.560693Z",
     "shell.execute_reply": "2025-04-17T22:59:37.560048Z"
    },
    "papermill": {
     "duration": 7.075861,
     "end_time": "2025-04-17T22:59:37.561815",
     "exception": false,
     "start_time": "2025-04-17T22:59:30.485954",
     "status": "completed"
    },
    "tags": []
   },
   "outputs": [
    {
     "data": {
      "text/plain": [
       "array([4.10740469e-04, 4.10740469e-04, 4.10740469e-04, ...,\n",
       "       4.10740469e-04, 4.10740469e-04, 1.76423423e+00])"
      ]
     },
     "execution_count": 10,
     "metadata": {},
     "output_type": "execute_result"
    }
   ],
   "source": [
    "preds = model.predict(X_test)\n",
    "preds"
   ]
  },
  {
   "cell_type": "code",
   "execution_count": 11,
   "id": "e409170e",
   "metadata": {
    "execution": {
     "iopub.execute_input": "2025-04-17T22:59:37.568632Z",
     "iopub.status.busy": "2025-04-17T22:59:37.568413Z",
     "iopub.status.idle": "2025-04-17T22:59:37.660889Z",
     "shell.execute_reply": "2025-04-17T22:59:37.660159Z"
    },
    "papermill": {
     "duration": 0.097109,
     "end_time": "2025-04-17T22:59:37.662087",
     "exception": false,
     "start_time": "2025-04-17T22:59:37.564978",
     "status": "completed"
    },
    "tags": []
   },
   "outputs": [
    {
     "data": {
      "text/plain": [
       "0     \n",
       " 0.0      4694316\n",
       " 1.0         8854\n",
       " 2.0         4008\n",
       " 5.0         1931\n",
       " 3.0         1814\n",
       "           ...   \n",
       " 510.0          1\n",
       " 556.0          1\n",
       " 611.0          1\n",
       "-287.0          1\n",
       " 733.0          1\n",
       "Name: count, Length: 166, dtype: int64"
      ]
     },
     "execution_count": 11,
     "metadata": {},
     "output_type": "execute_result"
    }
   ],
   "source": [
    "pred_quantity = pd.DataFrame(np.round(preds))\n",
    "pred_quantity.value_counts()"
   ]
  },
  {
   "cell_type": "code",
   "execution_count": 12,
   "id": "18fa8b16",
   "metadata": {
    "execution": {
     "iopub.execute_input": "2025-04-17T22:59:37.668877Z",
     "iopub.status.busy": "2025-04-17T22:59:37.668660Z",
     "iopub.status.idle": "2025-04-17T22:59:37.760611Z",
     "shell.execute_reply": "2025-04-17T22:59:37.759757Z"
    },
    "papermill": {
     "duration": 0.096677,
     "end_time": "2025-04-17T22:59:37.761894",
     "exception": false,
     "start_time": "2025-04-17T22:59:37.665217",
     "status": "completed"
    },
    "tags": []
   },
   "outputs": [
    {
     "name": "stdout",
     "output_type": "stream",
     "text": [
      "Test MAE: 0.007874720625264845\n",
      "Test MSE: 0.6046870313062066\n",
      "Test R2: 0.7080882290755617\n",
      "Test Adjusted R2: 0.7080871774299391\n"
     ]
    }
   ],
   "source": [
    "mae = mean_absolute_error(y_test, preds)\n",
    "mse = mean_squared_error(y_test, preds)\n",
    "r2 = r2_score(y_test, preds)\n",
    "\n",
    "# Adjusted R2 calculation\n",
    "n = len(y_test)          # number of samples\n",
    "p = X_test.shape[1]      # number of features (independent variables)\n",
    "adjusted_r2 = 1 - (1 - r2) * (n - 1) / (n - p - 1)\n",
    "\n",
    "print(f'Test MAE: {mae}')\n",
    "print(f'Test MSE: {mse}')\n",
    "print(f'Test R2: {r2}')\n",
    "print(f'Test Adjusted R2: {adjusted_r2}')"
   ]
  }
 ],
 "metadata": {
  "kaggle": {
   "accelerator": "nvidiaTeslaT4",
   "dataSources": [
    {
     "datasetId": 7173178,
     "sourceId": 11449165,
     "sourceType": "datasetVersion"
    },
    {
     "datasetId": 7141795,
     "sourceId": 11402345,
     "sourceType": "datasetVersion"
    }
   ],
   "dockerImageVersionId": 31011,
   "isGpuEnabled": true,
   "isInternetEnabled": true,
   "language": "python",
   "sourceType": "notebook"
  },
  "kernelspec": {
   "display_name": "Python 3",
   "language": "python",
   "name": "python3"
  },
  "language_info": {
   "codemirror_mode": {
    "name": "ipython",
    "version": 3
   },
   "file_extension": ".py",
   "mimetype": "text/x-python",
   "name": "python",
   "nbconvert_exporter": "python",
   "pygments_lexer": "ipython3",
   "version": "3.11.11"
  },
  "papermill": {
   "default_parameters": {},
   "duration": 105.110003,
   "end_time": "2025-04-17T22:59:38.786074",
   "environment_variables": {},
   "exception": null,
   "input_path": "__notebook__.ipynb",
   "output_path": "__notebook__.ipynb",
   "parameters": {},
   "start_time": "2025-04-17T22:57:53.676071",
   "version": "2.6.0"
  }
 },
 "nbformat": 4,
 "nbformat_minor": 5
}
